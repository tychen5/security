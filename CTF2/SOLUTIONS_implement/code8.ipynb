{
 "cells": [
  {
   "cell_type": "code",
   "execution_count": 2,
   "metadata": {},
   "outputs": [],
   "source": [
    "import signal\n",
    "from OpenSSL import crypto\n",
    "from base64 import b64decode"
   ]
  },
  {
   "cell_type": "code",
   "execution_count": 3,
   "metadata": {},
   "outputs": [],
   "source": [
    "def checkSubject(csie_cert, your_cert):\n",
    "    csie_subject, your_subject = csie_cert.get_subject(), your_cert.get_subject()\n",
    "    assert csie_subject.C == your_subject.C, '[X] Country'\n",
    "    assert csie_subject.ST == your_subject.ST, '[X] Country'\n",
    "    assert csie_subject.L == your_subject.L, '[X] Locality'\n",
    "    assert csie_subject.O == your_subject.O, '[X] Organization'\n",
    "    assert csie_subject.OU == your_subject.OU, '[X] Organization Unit'\n",
    "    assert csie_subject.CN == your_subject.CN, '[X] Common Name'"
   ]
  },
  {
   "cell_type": "code",
   "execution_count": 4,
   "metadata": {},
   "outputs": [],
   "source": [
    "def checkIssuer(root_cert, your_cert):\n",
    "    store = crypto.X509Store()\n",
    "    store.add_cert(root_cert)\n",
    "    store_ctx = crypto.X509StoreContext(store, your_cert)\n",
    "    assert store_ctx.verify_certificate() is None, '[X] Issuer'"
   ]
  },
  {
   "cell_type": "code",
   "execution_count": 25,
   "metadata": {
    "scrolled": true
   },
   "outputs": [
    {
     "name": "stdout",
     "output_type": "stream",
     "text": [
      "Please give me the certificate encoded in base64 format:LS0tLS1CRUdJTiBDRVJUSUZJQ0FURS0tLS0tDQpNSUlEcWpDQ0FwSUNDUUMrbnhodHpPbVFiekFOQmdrcWhraUc5dzBCQVFzRkFEQlBNUXN3Q1FZRFZRUUdFd0pVDQpWekVQTUEwR0ExVUVDQXdHVkdGcGQyRnVNUTh3RFFZRFZRUUhEQVpVWVdsd1pXa3hEakFNQmdOVkJBb01CVUpoDQpiSE51TVE0d0RBWURWUVFMREFWQ1lXeHpiakFlRncweE9EQTFNVE13T0RFeE1EaGFGdzB4T0RBMk1USXdPREV4DQpNRGhhTUlIZU1Rc3dDUVlEVlFRR0V3SlVWekVQTUEwR0ExVUVDQXdHVkdGcGQyRnVNUTh3RFFZRFZRUUhEQVpVDQpZV2x3WldreEl6QWhCZ05WQkFvTUdrNWhkR2x2Ym1Gc0lGUmhhWGRoYmlCVmJtbDJaWEp6YVhSNU1VTXdRUVlEDQpWUVFMRERwRVpYQmhjblJ0Wlc1MElHOW1JRU52YlhCMWRHVnlJRk5qYVdWdVkyVWdZVzVrSUVsdVptOXliV0YwDQphVzl1SUVWdVoybHVaV1Z5YVc1bk1Sb3dHQVlEVlFRRERCRXFMbU56YVdVdWJuUjFMbVZrZFM1MGR6RW5NQ1VHDQpDU3FHU0liM0RRRUpBUllZYkdWdmNXRjZNVEpBWTNOcFpTNXVkSFV1WldSMUxuUjNNSUlCSWpBTkJna3Foa2lHDQo5dzBCQVFFRkFBT0NBUThBTUlJQkNnS0NBUUVBMnlqcTMyT0kySkhKNzVQM3pwOFZIMmNlVklMNkhaYkFYUmlyDQoyQ1BFT1E1ek9VNi8wemZTQUhwMUVWbWg2dW1MK2dBenBzUzdPUnZqYkRpbGtNeFZHNXpFU25va1VjL3FLcUk1DQpmUXorT0VHMDdpODl5c0lJNUs3M0pzWVpOYmR4MkpXL2Rrd1k0aEEyaVBIS0ZMS2xkQmVQTEVVNkxaL0dWMjFUDQpDZDhQaXhoWS9SRGlTMHBHQmlYVzFlazQySVUrVUhCaWQrdWRRcGdVNmc3ZGlZdG15ZEY1cTBKV3Y0Z25McVE1DQpJQzBHOEFaejk2VVBsWG1OOEtPQ0s4dm91TktCNFRIMEppOS9wdFVEVkpoNVAyaklrY0xTMENUQVk5Z0NyRFphDQpLaDlMQUtrcUFVYjY0eUVuSlExSy9HQzk2bksydFNRSThNb3BaT2RFdzFmajVlZ1RCd0lEQVFBQk1BMEdDU3FHDQpTSWIzRFFFQkN3VUFBNElCQVFCMm1ITjcvSmJqV0VXNEF5Q1pOcUwwRUpzd01WYjA1alZ1aHhVUUFxQzlEWDBBDQpSRVFhTmVDWXpHcUg4TGhKd3M2blVPSnEzVExVbUJVT2NCQ0cvK3NXY0RaZThCUXB3V2ErZG5XV2U1Z1R3RUdoDQp5TDc4MWdDUEQwdWJ2SFAyL2d2OWpNQklaTnl3d0JCVHp1Sko0ZXFhbmg5Q1plZzh5VlVpekxzWm9WakJXZS93DQpOUysyYVZ1d29SbFJQeUxHamxPKzFqZUVDN2RmcFpSWHRZNlUyWDZxV09BcjB4NDM4S1hGVHZoa3R2SGxKNXZPDQo1OW9Odm1QeDU0aExSbHlqTzB1KzNUVE51YzdGVldxVGM4eFFUMHZDNlBmYUE5K3hxSnNuQUg4SFFxcnFQRGgvDQpUK0E5S0lURXVVd2I1U3loVTJlUjJrNi83WHVKSGRmUWxxZkdVMFNtDQotLS0tLUVORCBDRVJUSUZJQ0FURS0tLS0t\n"
     ]
    },
    {
     "ename": "ModuleNotFoundError",
     "evalue": "No module named 'secret'",
     "output_type": "error",
     "traceback": [
      "\u001b[0;31m---------------------------------------------------------------------------\u001b[0m",
      "\u001b[0;31mModuleNotFoundError\u001b[0m                       Traceback (most recent call last)",
      "\u001b[0;32m<ipython-input-25-9a186d18d9d1>\u001b[0m in \u001b[0;36m<module>\u001b[0;34m()\u001b[0m\n\u001b[1;32m     14\u001b[0m     \u001b[0mcheckSubject\u001b[0m\u001b[0;34m(\u001b[0m\u001b[0mcsie_cert\u001b[0m\u001b[0;34m,\u001b[0m \u001b[0myour_cert\u001b[0m\u001b[0;34m)\u001b[0m\u001b[0;34m\u001b[0m\u001b[0m\n\u001b[1;32m     15\u001b[0m     \u001b[0mcheckIssuer\u001b[0m\u001b[0;34m(\u001b[0m\u001b[0mroot_cert\u001b[0m\u001b[0;34m,\u001b[0m \u001b[0myour_cert\u001b[0m\u001b[0;34m)\u001b[0m\u001b[0;34m\u001b[0m\u001b[0m\n\u001b[0;32m---> 16\u001b[0;31m     \u001b[0mprint\u001b[0m\u001b[0;34m(\u001b[0m\u001b[0;34m'OK! You are one of balsn: '\u001b[0m \u001b[0;34m+\u001b[0m \u001b[0m__import__\u001b[0m\u001b[0;34m(\u001b[0m\u001b[0;34m\"secret\"\u001b[0m\u001b[0;34m)\u001b[0m\u001b[0;34m.\u001b[0m\u001b[0mflag\u001b[0m\u001b[0;34m)\u001b[0m\u001b[0;34m\u001b[0m\u001b[0m\n\u001b[0m",
      "\u001b[0;31mModuleNotFoundError\u001b[0m: No module named 'secret'"
     ]
    }
   ],
   "source": [
    "if __name__ == '__main__':\n",
    "#     signal.signal(signal.SIGALRM, lambda signal, frame: exit('[X] Timeout'))\n",
    "#     signal.alarm(30)\n",
    "\n",
    "    with open('tls-cert/csie.pem', 'rb') as f:\n",
    "        csie_cert = crypto.load_certificate(crypto.FILETYPE_PEM, f.read())\n",
    "    with open('tls-cert/rootCA.crt', 'rb') as f:\n",
    "        root_cert = crypto.load_certificate(crypto.FILETYPE_PEM, f.read())\n",
    "\n",
    "    your_cert_raw = b64decode(input('Please give me the certificate encoded in base64 format:').strip())\n",
    "    assert len(your_cert_raw) < 9453, '[X] Your certificate is too long'\n",
    "    your_cert = crypto.load_certificate(crypto.FILETYPE_PEM, your_cert_raw)\n",
    "\n",
    "    checkSubject(csie_cert, your_cert)\n",
    "    checkIssuer(root_cert, your_cert)\n",
    "    print('OK! You are one of balsn: ' + __import__(\"secret\").flag)"
   ]
  },
  {
   "cell_type": "code",
   "execution_count": 22,
   "metadata": {},
   "outputs": [
    {
     "data": {
      "text/plain": [
       "('TW',\n",
       " 'Taiwan',\n",
       " 'Taipei',\n",
       " 'National Taiwan University',\n",
       " 'Department of Computer Science and Information Engineering',\n",
       " '*.csie.ntu.edu.tw',\n",
       " <bound method X509Name.get_components of <X509Name object '/C=TW/ST=Taiwan/L=Taipei/O=National Taiwan University/OU=Department of Computer Science and Information Engineering/CN=*.csie.ntu.edu.tw'>>)"
      ]
     },
     "execution_count": 22,
     "metadata": {},
     "output_type": "execute_result"
    }
   ],
   "source": [
    "cc = csie_cert.get_subject()\n",
    "cc.C, cc.ST , cc.L ,cc.O,cc.OU,cc.CN ,cc.get_components"
   ]
  },
  {
   "cell_type": "code",
   "execution_count": 16,
   "metadata": {},
   "outputs": [
    {
     "ename": "X509StoreContextError",
     "evalue": "[20, 0, 'unable to get local issuer certificate']",
     "output_type": "error",
     "traceback": [
      "\u001b[0;31m---------------------------------------------------------------------------\u001b[0m",
      "\u001b[0;31mX509StoreContextError\u001b[0m                     Traceback (most recent call last)",
      "\u001b[0;32m<ipython-input-16-d24393494f5f>\u001b[0m in \u001b[0;36m<module>\u001b[0;34m()\u001b[0m\n\u001b[1;32m      2\u001b[0m \u001b[0mstore\u001b[0m\u001b[0;34m.\u001b[0m\u001b[0madd_cert\u001b[0m\u001b[0;34m(\u001b[0m\u001b[0mroot_cert\u001b[0m\u001b[0;34m)\u001b[0m\u001b[0;34m\u001b[0m\u001b[0m\n\u001b[1;32m      3\u001b[0m \u001b[0mstore_ctx\u001b[0m \u001b[0;34m=\u001b[0m \u001b[0mcrypto\u001b[0m\u001b[0;34m.\u001b[0m\u001b[0mX509StoreContext\u001b[0m\u001b[0;34m(\u001b[0m\u001b[0mstore\u001b[0m\u001b[0;34m,\u001b[0m\u001b[0mcsie_cert\u001b[0m\u001b[0;34m)\u001b[0m\u001b[0;34m\u001b[0m\u001b[0m\n\u001b[0;32m----> 4\u001b[0;31m \u001b[0mstore_ctx\u001b[0m\u001b[0;34m.\u001b[0m\u001b[0mverify_certificate\u001b[0m\u001b[0;34m(\u001b[0m\u001b[0;34m)\u001b[0m\u001b[0;34m\u001b[0m\u001b[0m\n\u001b[0m",
      "\u001b[0;32m~/anaconda3/lib/python3.6/site-packages/OpenSSL/crypto.py\u001b[0m in \u001b[0;36mverify_certificate\u001b[0;34m(self)\u001b[0m\n\u001b[1;32m   1795\u001b[0m         \u001b[0mself\u001b[0m\u001b[0;34m.\u001b[0m\u001b[0m_cleanup\u001b[0m\u001b[0;34m(\u001b[0m\u001b[0;34m)\u001b[0m\u001b[0;34m\u001b[0m\u001b[0m\n\u001b[1;32m   1796\u001b[0m         \u001b[0;32mif\u001b[0m \u001b[0mret\u001b[0m \u001b[0;34m<=\u001b[0m \u001b[0;36m0\u001b[0m\u001b[0;34m:\u001b[0m\u001b[0;34m\u001b[0m\u001b[0m\n\u001b[0;32m-> 1797\u001b[0;31m             \u001b[0;32mraise\u001b[0m \u001b[0mself\u001b[0m\u001b[0;34m.\u001b[0m\u001b[0m_exception_from_context\u001b[0m\u001b[0;34m(\u001b[0m\u001b[0;34m)\u001b[0m\u001b[0;34m\u001b[0m\u001b[0m\n\u001b[0m\u001b[1;32m   1798\u001b[0m \u001b[0;34m\u001b[0m\u001b[0m\n\u001b[1;32m   1799\u001b[0m \u001b[0;34m\u001b[0m\u001b[0m\n",
      "\u001b[0;31mX509StoreContextError\u001b[0m: [20, 0, 'unable to get local issuer certificate']"
     ]
    }
   ],
   "source": [
    "store = crypto.X509Store()\n",
    "store.add_cert(root_cert)\n",
    "store_ctx = crypto.X509StoreContext(store,csie_cert)\n",
    "store_ctx.verify_certificate()"
   ]
  }
 ],
 "metadata": {
  "kernelspec": {
   "display_name": "Python [conda env:anaconda3]",
   "language": "python",
   "name": "conda-env-anaconda3-py"
  },
  "language_info": {
   "codemirror_mode": {
    "name": "ipython",
    "version": 3
   },
   "file_extension": ".py",
   "mimetype": "text/x-python",
   "name": "python",
   "nbconvert_exporter": "python",
   "pygments_lexer": "ipython3",
   "version": "3.6.4"
  }
 },
 "nbformat": 4,
 "nbformat_minor": 2
}

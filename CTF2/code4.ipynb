{
 "cells": [
  {
   "cell_type": "code",
   "execution_count": 1,
   "metadata": {
    "scrolled": true
   },
   "outputs": [],
   "source": [
    "import signal\n",
    "import sys\n",
    "import os\n",
    "import time\n",
    "import base64\n",
    "import random\n",
    "from Crypto.Cipher import AES\n",
    "from Crypto.Hash import SHA256\n",
    "from hashlib import sha256\n",
    "import base64\n",
    "import hashlib\n",
    "from tqdm import tqdm\n",
    "# import command\n",
    "import socket\n",
    "from subprocess import *\n",
    "import subprocess\n",
    "import argparse\n",
    "# import http.client, urllib\n",
    "import re\n",
    "import binascii\n",
    "import sys\n",
    "import time\n",
    "from binascii import unhexlify, hexlify\n",
    "from itertools import *\n",
    "# import socket\n",
    "# from pwn import *\n",
    "from __future__ import print_function"
   ]
  },
  {
   "cell_type": "markdown",
   "metadata": {},
   "source": [
    "# (1)"
   ]
  },
  {
   "cell_type": "code",
   "execution_count": 153,
   "metadata": {},
   "outputs": [
    {
     "name": "stdout",
     "output_type": "stream",
     "text": [
      "36 students solved\n",
      "\n",
      "\n",
      "---------------\n",
      "[1] Decrypt\n",
      "[2] Submit Flag\n",
      "[3] Hint\n",
      "---------------\n",
      "> \n",
      "Give me a ciphertext, I will decrypt for you.\n",
      "Ciphertext: \n",
      "\n"
     ]
    }
   ],
   "source": [
    "s = socket.create_connection(('140.112.31.96', 10124))\n",
    "time.sleep(1)\n",
    "print(s.recv(10000))\n",
    "s.send(b'1\\n') #choose menu\n",
    "time.sleep(1)\n",
    "print(s.recv(10000))\n",
    "s.send(b'ae1d697d1495595a5f5b98e409d7a7c437f24e69feb250b347db0877a40085a9\\n')\n",
    "time.sleep(1)\n",
    "kk=s.recv(10000)\n",
    "time.sleep(1)\n",
    "print(s.recv(10000))\n",
    "# time.sleep(1)\n",
    "# print(s.recv(10000))\n",
    "# time.sleep(1)\n",
    "# print(s.recv(10000))\n",
    "# time.sleep(1)\n",
    "# print(s.recv(10000))"
   ]
  },
  {
   "cell_type": "code",
   "execution_count": 27,
   "metadata": {},
   "outputs": [],
   "source": [
    "def xor_strings(s,t):\n",
    "    \"\"\"xor two strings together\"\"\"\n",
    "    return \"\".join(chr(ord(a)^ord(b)) for a,b in zip(s,t))"
   ]
  },
  {
   "cell_type": "code",
   "execution_count": 88,
   "metadata": {},
   "outputs": [
    {
     "data": {
      "text/plain": [
       "'6368162d5e5f01415f4a0a44594742105c0e11580345554e190d0a1106060755131c41101668666d383d303c3c303c68'"
      ]
     },
     "execution_count": 88,
     "metadata": {},
     "output_type": "execute_result"
    }
   ],
   "source": [
    "len('296e12d608ad04bd3a10b71b9eef4bb6') #e1\n",
    "kkk = '296e12d608ad04bd3a10b71b9eef4bb6'.decode('hex')\n",
    "kk2 = xor_strings('oo hard, how2dec',kkk)\n",
    "kk3 = xor_strings(kk,kk2)\n",
    "# print(kk3)"
   ]
  },
  {
   "cell_type": "code",
   "execution_count": 154,
   "metadata": {},
   "outputs": [
    {
     "data": {
      "text/plain": [
       "\"\\x04@~\\xed'\\xa4)\\xc7'3\\x9d5\\x91\\xcci\\xa8rypt QQ\\n\""
      ]
     },
     "execution_count": 154,
     "metadata": {},
     "output_type": "execute_result"
    }
   ],
   "source": [
    "# len('ae1d697d1495595a5f5b98e409d7a7c437f24e69feb250b347db0877a40085a9')\n",
    "kk"
   ]
  },
  {
   "cell_type": "code",
   "execution_count": 156,
   "metadata": {},
   "outputs": [
    {
     "data": {
      "text/plain": [
       "16"
      ]
     },
     "execution_count": 156,
     "metadata": {},
     "output_type": "execute_result"
    }
   ],
   "source": [
    "len(\"\\x04@~\\xed'\\xa4)\\xc7'3\\x9d5\\x91\\xcci\\xa8\") #decrypt(e2) XOR IV"
   ]
  },
  {
   "cell_type": "code",
   "execution_count": 158,
   "metadata": {},
   "outputs": [
    {
     "data": {
      "text/plain": [
       "')n\\x12\\xd6\\x08\\xad\\x04\\xbd:\\x10\\xb7\\x1b\\x9e\\xefK\\xb6'"
      ]
     },
     "execution_count": 158,
     "metadata": {},
     "output_type": "execute_result"
    }
   ],
   "source": [
    "\n",
    "kkk"
   ]
  },
  {
   "cell_type": "code",
   "execution_count": 160,
   "metadata": {},
   "outputs": [
    {
     "data": {
      "text/plain": [
       "'BALSN{IV=KEY=GG}'"
      ]
     },
     "execution_count": 160,
     "metadata": {},
     "output_type": "execute_result"
    }
   ],
   "source": [
    "# 把密文跟明文都拆分成16，僅行XOR。把三川hex加在一起回傳\n",
    "# kk = xor_strings('QQ Homework is t',')n\\x12\\xd6\\x08\\xad\\x04\\xbd:\\x10\\xb7\\x1b\\x9e\\xefK\\xb6')\n",
    "# kk2 = xor_strings('oo hard, how2dec',kkk)\n",
    "# kk3 = xor_strings(kk,kk2)\n",
    "# kk3 = xor_strings('rypt QQ\\t\\t\\t\\t\\t\\t\\t\\t\\t','7\\xf2Ni\\xfe\\xb2P\\xb3G\\xdb\\x08w\\xa4\\x00\\x85\\xa9')\n",
    "# print(len(kk), len(kk2),len(kk3))\n",
    "# kk.encode('hex'),kk2.encode('hex'),kk3.encode('hex'), (kk+kk2+kk3).encode('hex')\n",
    "kk3"
   ]
  },
  {
   "cell_type": "code",
   "execution_count": null,
   "metadata": {},
   "outputs": [],
   "source": []
  },
  {
   "cell_type": "markdown",
   "metadata": {},
   "source": [
    "# (2)"
   ]
  },
  {
   "cell_type": "code",
   "execution_count": 16,
   "metadata": {},
   "outputs": [
    {
     "name": "stdout",
     "output_type": "stream",
     "text": [
      "b'8 students solved\\n'\n",
      "b'\\n---------------\\n[1] Decrypt\\n[2] Submit Flag\\n[3] Hint\\n---------------\\n> '\n",
      "b'\\nIV:\\n5RwmoJtiRSwxSX3w\\nEncrypted_FLAG:\\nc5a89d3cb9dafe0f429c3961921184fcbe6aaad16b450b3bbca64e389bf573b2337e976eb450b016dc37a71555be78d7524961ddb680d0f69444be5432587ea41acbaa59edcc5728b2d0dfc61c015b97\\n\\nHow2decrypt? QQ\\n\\n'\n",
      "b'Timeout! QQ'\n"
     ]
    }
   ],
   "source": [
    "s = socket.create_connection(('140.112.31.96', 10125))\n",
    "time.sleep(1)\n",
    "print(s.recv(10000))\n",
    "time.sleep(1)\n",
    "print(s.recv(10000))\n",
    "s.send(b'1\\n') #choose menu\n",
    "time.sleep(1)\n",
    "print(s.recv(10000))\n",
    "time.sleep(1)\n",
    "print(s.recv(10000))"
   ]
  }
 ],
 "metadata": {
  "kernelspec": {
   "display_name": "Python [conda env:py27]",
   "language": "python",
   "name": "conda-env-py27-py"
  },
  "language_info": {
   "codemirror_mode": {
    "name": "ipython",
    "version": 2
   },
   "file_extension": ".py",
   "mimetype": "text/x-python",
   "name": "python",
   "nbconvert_exporter": "python",
   "pygments_lexer": "ipython2",
   "version": "2.7.15"
  }
 },
 "nbformat": 4,
 "nbformat_minor": 2
}

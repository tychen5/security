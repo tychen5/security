{
 "cells": [
  {
   "cell_type": "code",
   "execution_count": 28,
   "metadata": {},
   "outputs": [
    {
     "ename": "ImportError",
     "evalue": "No module named libnum",
     "output_type": "error",
     "traceback": [
      "\u001b[0;31m---------------------------------------------------------------------------\u001b[0m",
      "\u001b[0;31mImportError\u001b[0m                               Traceback (most recent call last)",
      "\u001b[0;32m<ipython-input-28-e2f558314599>\u001b[0m in \u001b[0;36m<module>\u001b[0;34m()\u001b[0m\n\u001b[1;32m     30\u001b[0m \u001b[0;31m# import socket\u001b[0m\u001b[0;34m\u001b[0m\u001b[0;34m\u001b[0m\u001b[0m\n\u001b[1;32m     31\u001b[0m \u001b[0;31m# from pwn import *\u001b[0m\u001b[0;34m\u001b[0m\u001b[0;34m\u001b[0m\u001b[0m\n\u001b[0;32m---> 32\u001b[0;31m \u001b[0;32mfrom\u001b[0m \u001b[0mlibnum\u001b[0m \u001b[0;32mimport\u001b[0m \u001b[0;34m*\u001b[0m\u001b[0;34m\u001b[0m\u001b[0m\n\u001b[0m\u001b[1;32m     33\u001b[0m \u001b[0;32mfrom\u001b[0m \u001b[0msock\u001b[0m \u001b[0;32mimport\u001b[0m \u001b[0mSock\u001b[0m\u001b[0;34m\u001b[0m\u001b[0m\n",
      "\u001b[0;31mImportError\u001b[0m: No module named libnum"
     ]
    }
   ],
   "source": [
    "import signal\n",
    "import sys\n",
    "import os\n",
    "import time\n",
    "import base64\n",
    "import random\n",
    "from Crypto.Cipher import AES\n",
    "from Crypto.Hash import SHA256\n",
    "from hashlib import sha256\n",
    "import base64\n",
    "import hashlib\n",
    "from tqdm import tqdm\n",
    "# import commands\n",
    "import socket\n",
    "from subprocess import *\n",
    "import subprocess\n",
    "import argparse\n",
    "# import http.client, urllib\n",
    "import re\n",
    "import binascii\n",
    "import sys\n",
    "import time\n",
    "from binascii import unhexlify, hexlify\n",
    "from itertools import *\n",
    "import signal, sys, os, time\n",
    "import random\n",
    "import hashlib\n",
    "# from __future__ import print_function\n",
    "# import secret\n",
    "# import socket\n",
    "# from pwn import *\n",
    "from libnum import *\n",
    "from sock import Sock"
   ]
  },
  {
   "cell_type": "code",
   "execution_count": 11,
   "metadata": {
    "scrolled": true
   },
   "outputs": [
    {
     "name": "stdout",
     "output_type": "stream",
     "text": [
      "Round 1\n",
      "Server sends: 103067498640690238810376721549406913522525681032477071792330594483379548232386959401981824510970284641882490141576183172437185248236353868580013981692499366491747753061027677269596806749240404526760384615277316588892045773584179849428567576520781133999000033674825438983248536733338619531301918437897267343843\n"
     ]
    },
    {
     "ename": "KeyboardInterrupt",
     "evalue": "",
     "output_type": "error",
     "traceback": [
      "\u001b[0;31m---------------------------------------------------------------------------\u001b[0m",
      "\u001b[0;31mKeyboardInterrupt\u001b[0m                         Traceback (most recent call last)",
      "\u001b[0;32m<ipython-input-11-1aff389120b2>\u001b[0m in \u001b[0;36m<module>\u001b[0;34m()\u001b[0m\n\u001b[1;32m     27\u001b[0m     \u001b[0;32mprint\u001b[0m \u001b[0;34m\"Server sends:\"\u001b[0m\u001b[0;34m,\u001b[0m \u001b[0mB\u001b[0m\u001b[0;34m\u001b[0m\u001b[0m\n\u001b[1;32m     28\u001b[0m \u001b[0;34m\u001b[0m\u001b[0m\n\u001b[0;32m---> 29\u001b[0;31m     \u001b[0mA\u001b[0m \u001b[0;34m=\u001b[0m \u001b[0mint\u001b[0m\u001b[0;34m(\u001b[0m\u001b[0mraw_input\u001b[0m\u001b[0;34m(\u001b[0m\u001b[0;34m\"Generate 'a' and send A = g^a mod p to the server: \"\u001b[0m\u001b[0;34m)\u001b[0m\u001b[0;34m)\u001b[0m\u001b[0;34m\u001b[0m\u001b[0m\n\u001b[0m\u001b[1;32m     30\u001b[0m     \u001b[0;32massert\u001b[0m\u001b[0;34m(\u001b[0m\u001b[0;36m514\u001b[0m \u001b[0;34m<=\u001b[0m \u001b[0mA\u001b[0m \u001b[0;34m<\u001b[0m \u001b[0mp\u001b[0m\u001b[0;34m-\u001b[0m\u001b[0;36m514\u001b[0m\u001b[0;34m)\u001b[0m\u001b[0;34m\u001b[0m\u001b[0m\n\u001b[1;32m     31\u001b[0m \u001b[0;34m\u001b[0m\u001b[0m\n",
      "\u001b[0;32m/home/leoqaz12/anaconda3/envs/py27/lib/python2.7/site-packages/ipykernel/kernelbase.pyc\u001b[0m in \u001b[0;36mraw_input\u001b[0;34m(self, prompt)\u001b[0m\n\u001b[1;32m    702\u001b[0m             \u001b[0mself\u001b[0m\u001b[0;34m.\u001b[0m\u001b[0m_parent_ident\u001b[0m\u001b[0;34m,\u001b[0m\u001b[0;34m\u001b[0m\u001b[0m\n\u001b[1;32m    703\u001b[0m             \u001b[0mself\u001b[0m\u001b[0;34m.\u001b[0m\u001b[0m_parent_header\u001b[0m\u001b[0;34m,\u001b[0m\u001b[0;34m\u001b[0m\u001b[0m\n\u001b[0;32m--> 704\u001b[0;31m             \u001b[0mpassword\u001b[0m\u001b[0;34m=\u001b[0m\u001b[0mFalse\u001b[0m\u001b[0;34m,\u001b[0m\u001b[0;34m\u001b[0m\u001b[0m\n\u001b[0m\u001b[1;32m    705\u001b[0m         )\n\u001b[1;32m    706\u001b[0m \u001b[0;34m\u001b[0m\u001b[0m\n",
      "\u001b[0;32m/home/leoqaz12/anaconda3/envs/py27/lib/python2.7/site-packages/ipykernel/kernelbase.pyc\u001b[0m in \u001b[0;36m_input_request\u001b[0;34m(self, prompt, ident, parent, password)\u001b[0m\n\u001b[1;32m    732\u001b[0m             \u001b[0;32mexcept\u001b[0m \u001b[0mKeyboardInterrupt\u001b[0m\u001b[0;34m:\u001b[0m\u001b[0;34m\u001b[0m\u001b[0m\n\u001b[1;32m    733\u001b[0m                 \u001b[0;31m# re-raise KeyboardInterrupt, to truncate traceback\u001b[0m\u001b[0;34m\u001b[0m\u001b[0;34m\u001b[0m\u001b[0m\n\u001b[0;32m--> 734\u001b[0;31m                 \u001b[0;32mraise\u001b[0m \u001b[0mKeyboardInterrupt\u001b[0m\u001b[0;34m\u001b[0m\u001b[0m\n\u001b[0m\u001b[1;32m    735\u001b[0m             \u001b[0;32melse\u001b[0m\u001b[0;34m:\u001b[0m\u001b[0;34m\u001b[0m\u001b[0m\n\u001b[1;32m    736\u001b[0m                 \u001b[0;32mbreak\u001b[0m\u001b[0;34m\u001b[0m\u001b[0m\n",
      "\u001b[0;31mKeyboardInterrupt\u001b[0m: "
     ]
    }
   ],
   "source": [
    "# sys.dont_write_bytecode = True\n",
    "# sys.stdout = os.fdopen(sys.stdout.fileno(), 'w', 0)\n",
    "# sys.stdin = os.fdopen(sys.stdin.fileno(), 'r', 0)\n",
    "# alarm(60)\n",
    "\n",
    "# prime\n",
    "p = 262603487816194488181258352326988232210376591996146252542919605878805005469693782312718749915099841408908446760404481236646436295067318626356598442952156854984209550714670817589388406059285064542905718710475775121565983586780136825600264380868770029680925618588391997934473191054590812256197806034618157751903\n",
    "\n",
    "# password is a bunch of integer\n",
    "secret =[11,12,13]\n",
    "password = secret\n",
    "assert(len(password) == 3)\n",
    "assert(all(0 < i <= 20 for i in password))\n",
    "password = [int(hashlib.sha512(str(i)).hexdigest(), 16) for i in password]\n",
    "\n",
    "FLAG = int('secret.FLAG'.strip().encode('hex'), 16)\n",
    "\n",
    "key = 0\n",
    "for i, pwd in enumerate(password):\n",
    "\n",
    "    # Diffie Hellman and g is generated by the password\n",
    "    print 'Round', i+1\n",
    "    g = pow(pwd, 2, p)\n",
    "\n",
    "    b = random.randint(2, p)\n",
    "    B = pow(g, b ,p)    \n",
    "    print \"Server sends:\", B\n",
    "\n",
    "    A = int(raw_input(\"Generate 'a' and send A = g^a mod p to the server: \"))\n",
    "    assert(514 <= A < p-514)\n",
    "\n",
    "    K = pow(A, b, p)\n",
    "    key ^= int(hashlib.sha512(str(K)).hexdigest(), 16)\n",
    "\n",
    "print 'FLAG is:', key ^ FLAG"
   ]
  },
  {
   "cell_type": "code",
   "execution_count": 21,
   "metadata": {},
   "outputs": [
    {
     "data": {
      "text/plain": [
       "0"
      ]
     },
     "execution_count": 21,
     "metadata": {},
     "output_type": "execute_result"
    }
   ],
   "source": [
    "# g , p,pwd ,B,b\n",
    "pow(2,2,2)"
   ]
  },
  {
   "cell_type": "code",
   "execution_count": 26,
   "metadata": {
    "scrolled": true
   },
   "outputs": [
    {
     "data": {
      "text/plain": [
       "(6.1090902216482925e+153,\n",
       " 6109090221648292559655470620170195626007126996643275501555991019103171799772126887277943042000640022286461101381373586394411001995509369834071770256766063L)"
      ]
     },
     "execution_count": 26,
     "metadata": {},
     "output_type": "execute_result"
    }
   ],
   "source": [
    "password\n",
    "g**0.5 , pwd"
   ]
  },
  {
   "cell_type": "code",
   "execution_count": 37,
   "metadata": {
    "scrolled": true
   },
   "outputs": [],
   "source": [
    "for password in range(110000000):\n",
    "    pwd = str(password)\n",
    "#     print(password)\n",
    "    if all(0 < i <= 20 for i in pwd) == True:\n",
    "        print(pwd)"
   ]
  }
 ],
 "metadata": {
  "kernelspec": {
   "display_name": "Python [conda env:py27]",
   "language": "python",
   "name": "conda-env-py27-py"
  },
  "language_info": {
   "codemirror_mode": {
    "name": "ipython",
    "version": 2
   },
   "file_extension": ".py",
   "mimetype": "text/x-python",
   "name": "python",
   "nbconvert_exporter": "python",
   "pygments_lexer": "ipython2",
   "version": "2.7.15"
  }
 },
 "nbformat": 4,
 "nbformat_minor": 2
}

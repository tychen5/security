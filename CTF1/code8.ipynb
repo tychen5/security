{
 "cells": [
  {
   "cell_type": "code",
   "execution_count": 51,
   "metadata": {},
   "outputs": [],
   "source": [
    "import sys\n",
    "from hashlib import sha1\n",
    "from PIL import Image\n",
    "from Crypto.Util.number import bytes_to_long as b2l\n",
    "from Crypto.Util.number import long_to_bytes as l2b\n",
    "import command\n",
    "import socket\n",
    "from subprocess import *\n",
    "import subprocess\n",
    "import time"
   ]
  },
  {
   "cell_type": "code",
   "execution_count": 52,
   "metadata": {},
   "outputs": [],
   "source": [
    "pdf_header = l2b(0x255044462D312E330A25E2E3CFD30A0A0A312030206F626A0A3C3C2F57696474682032203020522F4865696768742033203020522F547970652034203020522F537562747970652035203020522F46696C7465722036203020522F436F6C6F7253706163652037203020522F4C656E6774682038203020522F42697473506572436F6D706F6E656E7420383E3E0A73747265616D0A)\n",
    "jpg_header = l2b(0xFFD8FFFE00245348412D3120697320646561642121212121852FEC092339759C39B1A1C63C4C97E1FFFE01)\n",
    "\n",
    "# Collision blocks (This is the only part of the files which is different)\n",
    "collision_block1 = l2b(0x7F46DC93A6B67E013B029AAA1DB2560B45CA67D688C7F84B8C4C791FE02B3DF614F86DB1690901C56B45C1530AFEDFB76038E972722FE7AD728F0E4904E046C230570FE9D41398ABE12EF5BC942BE33542A4802D98B5D70F2A332EC37FAC3514E74DDC0F2CC1A874CD0C78305A21566461309789606BD0BF3F98CDA8044629A1)\n",
    "collision_block2 = l2b(0x7346DC9166B67E118F029AB621B2560FF9CA67CCA8C7F85BA84C79030C2B3DE218F86DB3A90901D5DF45C14F26FEDFB3DC38E96AC22FE7BD728F0E45BCE046D23C570FEB141398BB552EF5A0A82BE331FEA48037B8B5D71F0E332EDF93AC3500EB4DDC0DECC1A864790C782C76215660DD309791D06BD0AF3F98CDA4BC4629B1)"
   ]
  },
  {
   "cell_type": "code",
   "execution_count": 53,
   "metadata": {},
   "outputs": [
    {
     "data": {
      "text/plain": [
       "'811335'"
      ]
     },
     "execution_count": 53,
     "metadata": {},
     "output_type": "execute_result"
    }
   ],
   "source": [
    "s = socket.create_connection(('140.112.31.96', 10121))\n",
    "time.sleep(1)\n",
    "strs1 = s.recv(1000000)\n",
    "strs11 = str(strs1).split('?')[-1].split(':')[0]\n",
    "strs11\n"
   ]
  },
  {
   "cell_type": "code",
   "execution_count": 54,
   "metadata": {},
   "outputs": [
    {
     "name": "stdout",
     "output_type": "stream",
     "text": [
      "b'%PDF-1.3\\n%\\xe2\\xe3\\xcf\\xd3\\n\\n\\n1 0 obj\\n<</Width 2 0 R/Height 3 0 R/Type 4 0 R/Subtype 5 0 R/Filter 6 0 R/ColorSpace 7 0 R/Length 8 0 R/BitsPerComponent 8>>\\nstream\\n\\xff\\xd8\\xff\\xfe\\x00$SHA-1 is dead!!!!!\\x85/\\xec\\t#9u\\x9c9\\xb1\\xa1\\xc6<L\\x97\\xe1\\xff\\xfe\\x01\\x7fF\\xdc\\x93\\xa6\\xb6~\\x01;\\x02\\x9a\\xaa\\x1d\\xb2V\\x0bE\\xcag\\xd6\\x88\\xc7\\xf8K\\x8cLy\\x1f\\xe0+=\\xf6\\x14\\xf8m\\xb1i\\t\\x01\\xc5kE\\xc1S\\n\\xfe\\xdf\\xb7`8\\xe9rr/\\xe7\\xadr\\x8f\\x0eI\\x04\\xe0F\\xc20W\\x0f\\xe9\\xd4\\x13\\x98\\xab\\xe1.\\xf5\\xbc\\x94+\\xe35B\\xa4\\x80-\\x98\\xb5\\xd7\\x0f*3.\\xc3\\x7f\\xac5\\x14\\xe7M\\xdc\\x0f,\\xc1\\xa8t\\xcd\\x0cx0Z!Vda0\\x97\\x89`k\\xd0\\xbf?\\x98\\xcd\\xa8\\x04F)\\xa1\\xf5\\xd9\\xcf'\n",
      "b47f08ff50ca246969703ffadaff3fd38b811335\n"
     ]
    }
   ],
   "source": [
    "for i in range(99999999):\n",
    "    data = l2b(0x00+i)\n",
    "    prefix1 = pdf_header + jpg_header + collision_block1+data\n",
    "    kk = sha1(prefix1).hexdigest()\n",
    "    if kk[-6:] == strs11:\n",
    "        print(prefix1) #X\n",
    "        print(kk) #sha(Y)\n",
    "        break\n",
    "#     print(data)\n",
    "\n",
    "# prefix1 = pdf_header + jpg_header + collision_block1+data\n",
    "prefix2 = pdf_header + jpg_header + collision_block2+data"
   ]
  },
  {
   "cell_type": "code",
   "execution_count": 55,
   "metadata": {},
   "outputs": [
    {
     "data": {
      "text/plain": [
       "b'Great!\\nNow Give me the Y such that sha1(X) == sha1(Y):'"
      ]
     },
     "execution_count": 55,
     "metadata": {},
     "output_type": "execute_result"
    }
   ],
   "source": [
    "s.send(prefix1.hex().encode()+b'\\n')\n",
    "time.sleep(1)\n",
    "strs2 = s.recv(1000000)\n",
    "strs2"
   ]
  },
  {
   "cell_type": "code",
   "execution_count": 56,
   "metadata": {},
   "outputs": [
    {
     "data": {
      "text/plain": [
       "b'BALSN{P0W_1s_4_w4st3_0f_t1m3_4nd_3n3rgy}\\n\\n'"
      ]
     },
     "execution_count": 56,
     "metadata": {},
     "output_type": "execute_result"
    }
   ],
   "source": [
    "prefix2 = pdf_header + jpg_header + collision_block2+data\n",
    "s.send(prefix2.hex().encode()+b'\\n')\n",
    "time.sleep(1)\n",
    "strs3 = s.recv(1000000)\n",
    "strs3"
   ]
  },
  {
   "cell_type": "markdown",
   "metadata": {},
   "source": [
    "***"
   ]
  },
  {
   "cell_type": "code",
   "execution_count": 21,
   "metadata": {},
   "outputs": [
    {
     "data": {
      "text/plain": [
       "'8aa1b7'"
      ]
     },
     "execution_count": 21,
     "metadata": {},
     "output_type": "execute_result"
    }
   ],
   "source": [
    "# kk = sha1(prefix1).hexdigest()\n",
    "# kk[-6:]\n",
    "# # kk"
   ]
  },
  {
   "cell_type": "code",
   "execution_count": 12,
   "metadata": {},
   "outputs": [
    {
     "data": {
      "text/plain": [
       "'49dce5ae4776d536d6798351fb74457ceb6d7a0b'"
      ]
     },
     "execution_count": 12,
     "metadata": {},
     "output_type": "execute_result"
    }
   ],
   "source": [
    "# sha1(prefix1).hexdigest()"
   ]
  },
  {
   "cell_type": "code",
   "execution_count": 59,
   "metadata": {},
   "outputs": [
    {
     "data": {
      "text/plain": [
       "b'Great!\\nNow Give me the Y such that sha1(X) == sha1(Y):'"
      ]
     },
     "execution_count": 59,
     "metadata": {},
     "output_type": "execute_result"
    }
   ],
   "source": [
    "# strs2"
   ]
  },
  {
   "cell_type": "code",
   "execution_count": 33,
   "metadata": {},
   "outputs": [
    {
     "data": {
      "text/plain": [
       "b'%PDF-1.3\\n%\\xe2\\xe3\\xcf\\xd3\\n\\n\\n1 0 obj\\n<</Width 2 0 R/Height 3 0 R/Type 4 0 R/Subtype 5 0 R/Filter 6 0 R/ColorSpace 7 0 R/Length 8 0 R/BitsPerComponent 8>>\\nstream\\n\\xff\\xd8\\xff\\xfe\\x00$SHA-1 is dead!!!!!\\x85/\\xec\\t#9u\\x9c9\\xb1\\xa1\\xc6<L\\x97\\xe1\\xff\\xfe\\x01\\x7fF\\xdc\\x93\\xa6\\xb6~\\x01;\\x02\\x9a\\xaa\\x1d\\xb2V\\x0bE\\xcag\\xd6\\x88\\xc7\\xf8K\\x8cLy\\x1f\\xe0+=\\xf6\\x14\\xf8m\\xb1i\\t\\x01\\xc5kE\\xc1S\\n\\xfe\\xdf\\xb7`8\\xe9rr/\\xe7\\xadr\\x8f\\x0eI\\x04\\xe0F\\xc20W\\x0f\\xe9\\xd4\\x13\\x98\\xab\\xe1.\\xf5\\xbc\\x94+\\xe35B\\xa4\\x80-\\x98\\xb5\\xd7\\x0f*3.\\xc3\\x7f\\xac5\\x14\\xe7M\\xdc\\x0f,\\xc1\\xa8t\\xcd\\x0cx0Z!Vda0\\x97\\x89`k\\xd0\\xbf?\\x98\\xcd\\xa8\\x04F)\\xa10\\xe6\\x11'"
      ]
     },
     "execution_count": 33,
     "metadata": {},
     "output_type": "execute_result"
    }
   ],
   "source": [
    "# prefix1"
   ]
  }
 ],
 "metadata": {
  "kernelspec": {
   "display_name": "Python 3",
   "language": "python",
   "name": "python3"
  },
  "language_info": {
   "codemirror_mode": {
    "name": "ipython",
    "version": 3
   },
   "file_extension": ".py",
   "mimetype": "text/x-python",
   "name": "python",
   "nbconvert_exporter": "python",
   "pygments_lexer": "ipython3",
   "version": "3.6.4"
  }
 },
 "nbformat": 4,
 "nbformat_minor": 2
}

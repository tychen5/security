{
 "cells": [
  {
   "cell_type": "code",
   "execution_count": 137,
   "metadata": {},
   "outputs": [],
   "source": [
    "import signal\n",
    "import sys\n",
    "import os\n",
    "import time\n",
    "import base64\n",
    "import random\n",
    "from Crypto.Cipher import AES\n",
    "from Crypto.Hash import SHA256\n",
    "from hashlib import sha256\n",
    "# import secret"
   ]
  },
  {
   "cell_type": "code",
   "execution_count": 3,
   "metadata": {},
   "outputs": [],
   "source": [
    "sys.dont_write_bytecode = True\n",
    "BS = 16\n",
    "pad = lambda s: s + (BS - len(s) % BS) * chr(BS - len(s) % BS)\n",
    "unpad = lambda s: s[:-ord(s[-1])]\n",
    "FLAG = 'okFlag'\n",
    "userAndPw = ['123:456','admin:777']"
   ]
  },
  {
   "cell_type": "code",
   "execution_count": 244,
   "metadata": {},
   "outputs": [],
   "source": [
    "def alarm(time):\n",
    "    def handler(signum, frame):\n",
    "        print('Timeout')\n",
    "        exit()\n",
    "    signal.signal(signal.SIGALRM, handler)\n",
    "    signal.alarm(time)\n",
    "    \n",
    "def sha256(content):\n",
    "    Sha256 = SHA256.new()\n",
    "    Sha256.update(content)\n",
    "    return Sha256.digest()\n",
    "\n",
    "def checkIntegrity(message, digest):\n",
    "    sha256 = SHA256.new()\n",
    "    sha256.update(message.encode())\n",
    "    if base64.b64encode(sha256.digest()) != digest:\n",
    "        print('Integrity error!')\n",
    "        exit()\n",
    "def findPW(ID):\n",
    "    password = ''\n",
    "    for each in userAndPw:\n",
    "        if each.split(':')[0] == ID:\n",
    "            password = each.split(':')[1]\n",
    "    if password == '':\n",
    "        print('ID not found!')\n",
    "        exit()\n",
    "    return password"
   ]
  },
  {
   "cell_type": "code",
   "execution_count": 5,
   "metadata": {},
   "outputs": [],
   "source": [
    "def first():\n",
    "    try:\n",
    "        recv = input('You should send your ID and a random string to me: ')\n",
    "        ID, N, digest = recv.split('||')\n",
    "    except:\n",
    "        print('Format error!')\n",
    "        exit()\n",
    "    checkIntegrity(ID + '||' + N, digest)\n",
    "    return ID, N"
   ]
  },
  {
   "cell_type": "code",
   "execution_count": 165,
   "metadata": {},
   "outputs": [],
   "source": [
    "def second(ID, Nc, password, Ns):\n",
    "    cipher = sha256(password + '||' + ID + '||' + Nc + '||' + \"login\")\n",
    "    print(Ns + '||' + base64.b64encode(cipher))"
   ]
  },
  {
   "cell_type": "code",
   "execution_count": 7,
   "metadata": {},
   "outputs": [],
   "source": [
    "def third(ID, password, Ns):\n",
    "    try:\n",
    "        recv = input('You send me your ID, my random string and your action in base64encode'+\n",
    "            'and the Mac\\n'+\n",
    "            'Like this Base64encode(ID+\"||\"+Ns+\"||\"+action)+\"||\"+Base64encode(sha256(password+\"||\"+ID+\"||\"+Ns+\"||\"+action))')\n",
    "        Message,Mac = recv.split('||') #b64decode=>pumptool=>b64encode || base64.b64encode(cipher)<--不能改\n",
    "        #'admin'||'123'||'login' -s cipherhash --data 'admin'+'||' + '789' + \"||\"+'login' -a '||printflag' -k 17\n",
    "        #admin||59419||login 19  ||printflag\n",
    "    except:\n",
    "        print('Format error!')\n",
    "        exit()\n",
    "    Message = base64.b64decode(Message)\n",
    "    checkIntegrity(password + \"||\" + Message, Mac)   # mac= b64encode(sha256(password||Mesage))\n",
    "    plaintext = Message.split(\"||\")\n",
    "\n",
    "    if plaintext[0] == ID and plaintext[1] == Ns:\n",
    "        print('Welcome! ' + ID)\n",
    "        if ID == 'admin' and plaintext[-1] == \"printflag\":\n",
    "            print('The flag is: ' + FLAG)\n",
    "    else:\n",
    "        print(\"Something is wrong\")\n",
    "        exit()"
   ]
  },
  {
   "cell_type": "code",
   "execution_count": 31,
   "metadata": {
    "scrolled": true
   },
   "outputs": [
    {
     "name": "stdout",
     "output_type": "stream",
     "text": [
      "Let me sleep first . . .\n",
      "I'm back!\n",
      "You should send your ID and a random string to me: admin||789||DDn5LzBAmZMlRopSGoaB3+J/14TTnA5iaLywsBdQauQ=\n",
      "Integrity error!\n"
     ]
    },
    {
     "ename": "TypeError",
     "evalue": "Unicode-objects must be encoded before hashing",
     "output_type": "error",
     "traceback": [
      "\u001b[0;31m---------------------------------------------------------------------------\u001b[0m",
      "\u001b[0;31mTypeError\u001b[0m                                 Traceback (most recent call last)",
      "\u001b[0;32m<ipython-input-31-4ad37489180a>\u001b[0m in \u001b[0;36m<module>\u001b[0;34m()\u001b[0m\n\u001b[1;32m     11\u001b[0m     \u001b[0mpassword\u001b[0m \u001b[0;34m=\u001b[0m \u001b[0mfindPW\u001b[0m\u001b[0;34m(\u001b[0m\u001b[0mID\u001b[0m\u001b[0;34m)\u001b[0m\u001b[0;34m\u001b[0m\u001b[0m\n\u001b[1;32m     12\u001b[0m     \u001b[0mNs\u001b[0m \u001b[0;34m=\u001b[0m \u001b[0mstr\u001b[0m\u001b[0;34m(\u001b[0m\u001b[0mrandom\u001b[0m\u001b[0;34m.\u001b[0m\u001b[0mrandint\u001b[0m\u001b[0;34m(\u001b[0m\u001b[0;36m100\u001b[0m\u001b[0;34m,\u001b[0m \u001b[0;36m99999\u001b[0m\u001b[0;34m)\u001b[0m\u001b[0;34m)\u001b[0m\u001b[0;34m\u001b[0m\u001b[0m\n\u001b[0;32m---> 13\u001b[0;31m     \u001b[0msecond\u001b[0m\u001b[0;34m(\u001b[0m\u001b[0mID\u001b[0m\u001b[0;34m,\u001b[0m \u001b[0mNc\u001b[0m\u001b[0;34m,\u001b[0m \u001b[0mpassword\u001b[0m\u001b[0;34m,\u001b[0m \u001b[0mNs\u001b[0m\u001b[0;34m)\u001b[0m\u001b[0;34m\u001b[0m\u001b[0m\n\u001b[0m\u001b[1;32m     14\u001b[0m     \u001b[0mthird\u001b[0m\u001b[0;34m(\u001b[0m\u001b[0mID\u001b[0m\u001b[0;34m,\u001b[0m \u001b[0mpassword\u001b[0m\u001b[0;34m,\u001b[0m \u001b[0mNs\u001b[0m\u001b[0;34m)\u001b[0m\u001b[0;34m\u001b[0m\u001b[0m\n",
      "\u001b[0;32m<ipython-input-5-95b921324299>\u001b[0m in \u001b[0;36msecond\u001b[0;34m(ID, Nc, password, Ns)\u001b[0m\n\u001b[1;32m      1\u001b[0m \u001b[0;32mdef\u001b[0m \u001b[0msecond\u001b[0m\u001b[0;34m(\u001b[0m\u001b[0mID\u001b[0m\u001b[0;34m,\u001b[0m \u001b[0mNc\u001b[0m\u001b[0;34m,\u001b[0m \u001b[0mpassword\u001b[0m\u001b[0;34m,\u001b[0m \u001b[0mNs\u001b[0m\u001b[0;34m)\u001b[0m\u001b[0;34m:\u001b[0m\u001b[0;34m\u001b[0m\u001b[0m\n\u001b[0;32m----> 2\u001b[0;31m     \u001b[0mcipher\u001b[0m \u001b[0;34m=\u001b[0m \u001b[0msha256\u001b[0m\u001b[0;34m(\u001b[0m\u001b[0mpassword\u001b[0m \u001b[0;34m+\u001b[0m \u001b[0;34m'||'\u001b[0m \u001b[0;34m+\u001b[0m \u001b[0mID\u001b[0m \u001b[0;34m+\u001b[0m \u001b[0;34m'||'\u001b[0m \u001b[0;34m+\u001b[0m \u001b[0mNc\u001b[0m \u001b[0;34m+\u001b[0m \u001b[0;34m'||'\u001b[0m \u001b[0;34m+\u001b[0m \u001b[0;34m\"login\"\u001b[0m\u001b[0;34m)\u001b[0m\u001b[0;34m\u001b[0m\u001b[0m\n\u001b[0m\u001b[1;32m      3\u001b[0m     \u001b[0mprint\u001b[0m\u001b[0;34m(\u001b[0m\u001b[0mNs\u001b[0m \u001b[0;34m+\u001b[0m \u001b[0;34m'||'\u001b[0m \u001b[0;34m+\u001b[0m \u001b[0mbase64\u001b[0m\u001b[0;34m.\u001b[0m\u001b[0mb64encode\u001b[0m\u001b[0;34m(\u001b[0m\u001b[0mcipher\u001b[0m\u001b[0;34m)\u001b[0m\u001b[0;34m)\u001b[0m\u001b[0;34m\u001b[0m\u001b[0m\n",
      "\u001b[0;32m<ipython-input-30-c669dcf4b6a3>\u001b[0m in \u001b[0;36msha256\u001b[0;34m(content)\u001b[0m\n\u001b[1;32m      7\u001b[0m \u001b[0;32mdef\u001b[0m \u001b[0msha256\u001b[0m\u001b[0;34m(\u001b[0m\u001b[0mcontent\u001b[0m\u001b[0;34m)\u001b[0m\u001b[0;34m:\u001b[0m\u001b[0;34m\u001b[0m\u001b[0m\n\u001b[1;32m      8\u001b[0m     \u001b[0mSha256\u001b[0m \u001b[0;34m=\u001b[0m \u001b[0mSHA256\u001b[0m\u001b[0;34m.\u001b[0m\u001b[0mnew\u001b[0m\u001b[0;34m(\u001b[0m\u001b[0;34m)\u001b[0m\u001b[0;34m\u001b[0m\u001b[0m\n\u001b[0;32m----> 9\u001b[0;31m     \u001b[0mSha256\u001b[0m\u001b[0;34m.\u001b[0m\u001b[0mupdate\u001b[0m\u001b[0;34m(\u001b[0m\u001b[0mcontent\u001b[0m\u001b[0;34m)\u001b[0m\u001b[0;34m\u001b[0m\u001b[0m\n\u001b[0m\u001b[1;32m     10\u001b[0m     \u001b[0;32mreturn\u001b[0m \u001b[0mSha256\u001b[0m\u001b[0;34m.\u001b[0m\u001b[0mdigest\u001b[0m\u001b[0;34m(\u001b[0m\u001b[0;34m)\u001b[0m\u001b[0;34m\u001b[0m\u001b[0m\n\u001b[1;32m     11\u001b[0m \u001b[0;34m\u001b[0m\u001b[0m\n",
      "\u001b[0;32m~/anaconda3/lib/python3.6/site-packages/Crypto/Hash/hashalgo.py\u001b[0m in \u001b[0;36mupdate\u001b[0;34m(self, data)\u001b[0m\n\u001b[1;32m     67\u001b[0m             \u001b[0mThe\u001b[0m \u001b[0mnext\u001b[0m \u001b[0mchunk\u001b[0m \u001b[0mof\u001b[0m \u001b[0mthe\u001b[0m \u001b[0mmessage\u001b[0m \u001b[0mbeing\u001b[0m \u001b[0mhashed\u001b[0m\u001b[0;34m.\u001b[0m\u001b[0;34m\u001b[0m\u001b[0m\n\u001b[1;32m     68\u001b[0m         \"\"\"\n\u001b[0;32m---> 69\u001b[0;31m         \u001b[0;32mreturn\u001b[0m \u001b[0mself\u001b[0m\u001b[0;34m.\u001b[0m\u001b[0m_hash\u001b[0m\u001b[0;34m.\u001b[0m\u001b[0mupdate\u001b[0m\u001b[0;34m(\u001b[0m\u001b[0mdata\u001b[0m\u001b[0;34m)\u001b[0m\u001b[0;34m\u001b[0m\u001b[0m\n\u001b[0m\u001b[1;32m     70\u001b[0m \u001b[0;34m\u001b[0m\u001b[0m\n\u001b[1;32m     71\u001b[0m     \u001b[0;32mdef\u001b[0m \u001b[0mdigest\u001b[0m\u001b[0;34m(\u001b[0m\u001b[0mself\u001b[0m\u001b[0;34m)\u001b[0m\u001b[0;34m:\u001b[0m\u001b[0;34m\u001b[0m\u001b[0m\n",
      "\u001b[0;31mTypeError\u001b[0m: Unicode-objects must be encoded before hashing"
     ]
    }
   ],
   "source": [
    "if __name__ == '__main__':\n",
    "#     alarm(6000000)\n",
    "#     sys.stdout = os.fdopen(sys.stdout.fileno(), 'w', 0)\n",
    "#     sys.stdin = os.fdopen(sys.stdin.fileno(), 'r', 0)\n",
    "\n",
    "    print('Let me sleep first . . .')\n",
    "#     time.sleep(5)\n",
    "    print('I\\'m back!')\n",
    "\n",
    "    ID, Nc = first() #N\n",
    "    password = findPW(ID)\n",
    "    Ns = str(random.randint(100, 99999))\n",
    "    second(ID, Nc, password, Ns)\n",
    "    third(ID, password, Ns)"
   ]
  },
  {
   "cell_type": "markdown",
   "metadata": {},
   "source": [
    "***"
   ]
  },
  {
   "cell_type": "code",
   "execution_count": 23,
   "metadata": {},
   "outputs": [],
   "source": [
    "import base64\n",
    "import hashlib"
   ]
  },
  {
   "cell_type": "code",
   "execution_count": 13,
   "metadata": {},
   "outputs": [
    {
     "name": "stdout",
     "output_type": "stream",
     "text": [
      "b'DDn5LzBAmZMlRopSGoaB3+J/14TTnA5iaLywsBdQauQ='\n"
     ]
    }
   ],
   "source": [
    "recv = 'admin'+'||'+'789'+'||'+'DDn5LzBAmZMlRopSGoaB3+J/14TTnA5iaLywsBdQauQ=' #Nc\n",
    "ID, N, digest = recv.split('||')\n",
    "message=ID + '||' + N\n",
    "message = message.encode()\n",
    "sha256 = SHA256.new()\n",
    "sha256.update(message)\n",
    "print(base64.b64encode(sha256.digest()))\n",
    "\n",
    "# hashes = hashlib.sha256(message).digest()\n",
    "# hash_base64 = base64.b64encode(hashes).decode()\n",
    "# print( 'sha256-{}'.format(hash_base64))"
   ]
  },
  {
   "cell_type": "code",
   "execution_count": 21,
   "metadata": {},
   "outputs": [
    {
     "name": "stdout",
     "output_type": "stream",
     "text": [
      "b'YWRtaW58fDYxMzI1fHxwcmludGZsYWc='\n",
      "b'K2UzQUIvbWdmMHl6Y2pURWpVdk82WFhaU1gxcjlMKzNoOFo2elF3TUY0bz0='\n"
     ]
    }
   ],
   "source": [
    "mss = 'admin'+'||'+'61325'+'||'+'printflag'\n",
    "msg = base64.b64encode(mss.encode())\n",
    "mss2 ='+e3AB/mgf0yzcjTEjUvO6XXZSX1r9L+3h8Z6zQwMF4o='\n",
    "msg2 = base64.b64encode(mss2.encode())\n",
    "print(msg) # +'||'+\n",
    "print(msg2)"
   ]
  },
  {
   "cell_type": "code",
   "execution_count": 127,
   "metadata": {},
   "outputs": [
    {
     "name": "stdout",
     "output_type": "stream",
     "text": [
      "cf200e7eb9839689bb885da58de82ef7f74afa77dbe425c84962c8e4be57f3d6\n"
     ]
    },
    {
     "data": {
      "text/plain": [
       "52"
      ]
     },
     "execution_count": 127,
     "metadata": {},
     "output_type": "execute_result"
    }
   ],
   "source": [
    "ms2 = 'zyAOfrmDlom7iF2ljegu9/dK+nfb5CXISWLI5L5X89Y='\n",
    "msg3 = base64.b64decode(ms2.encode())\n",
    "mss = msg3.hex()\n",
    "print(mss)\n",
    "# kk= 'f9edc007f9a07f4cb37234c48d4bcee975d9497d6bf4bfb787c67acd0c0c178a'\n",
    "# len(kk)\n",
    "# len('7061dca407ae7ecdf74ec1c158afa2703fb86159c973d232eb3b4e80d51d9829') #cf200e7eb9839689bb885da58de82ef7f74afa77dbe425c84962c8e4be57f3d6\n",
    "# mss2 = bytes.fromhex('1873b29ad99a2ae8ac750287a2264cf693727be7b094b2054af4a7e5377837e9')\n",
    "mss2 = 'admin||9965\\x80\\x00\\x00\\x00\\x00\\x00\\x00\\x00\\x00\\x00\\x00\\x00\\x00\\x00\\x00\\x00\\x00\\x00\\x00\\x00\\x00\\x00\\x00\\x00\\x00\\x00\\x00\\x00\\x01\\x10||printflag'\n",
    "msg4 = base64.b64encode(mss2.encode())\n",
    "# len(mss2)\n",
    "msg4 # NzA2MWRjYTQwN2FlN2VjZGY3NGVjMWMxNThhZmEyNzAzZmI4NjE1OWM5NzNkMjMyZWIzYjRlODBkNTFkOTgyOQ=="
   ]
  },
  {
   "cell_type": "code",
   "execution_count": 15,
   "metadata": {},
   "outputs": [
    {
     "data": {
      "text/plain": [
       "2"
      ]
     },
     "execution_count": 15,
     "metadata": {},
     "output_type": "execute_result"
    }
   ],
   "source": [
    "mm = [0,1,2]\n",
    "mm[-1]"
   ]
  },
  {
   "cell_type": "code",
   "execution_count": 47,
   "metadata": {},
   "outputs": [
    {
     "data": {
      "text/plain": [
       "b'zyAOfrmDlom7iF2ljegu9/dK+nfb5CXISWLI5L5X89Y='"
      ]
     },
     "execution_count": 47,
     "metadata": {},
     "output_type": "execute_result"
    }
   ],
   "source": [
    "sha256 = SHA256.new()\n",
    "messages='admin||12345'\n",
    "sha256.update(messages.encode())\n",
    "# ci\n",
    "base64.b64encode(sha256.digest())# == b'GLe7b4Lqp+CGBzoN7TxAq0ltlQZu5phFYqDiAG3OGNE='\n",
    "# sha256('password' + '||' + 'admin' + '||' + '789' + '||' + \"login\")"
   ]
  },
  {
   "cell_type": "code",
   "execution_count": 34,
   "metadata": {},
   "outputs": [],
   "source": [
    "from tqdm import tqdm"
   ]
  },
  {
   "cell_type": "code",
   "execution_count": 37,
   "metadata": {},
   "outputs": [],
   "source": [
    "for i in range(9999999):\n",
    "    messages = str(i)+'||' + 'admin' + '||' + '789' + '||' + \"login\"\n",
    "    sha256 = SHA256.new()\n",
    "    sha256.update(messages.encode())\n",
    "    if base64.b64encode(sha256.digest()) == b'+e3AB/mgf0yzcjTEjUvO6XXZSX1r9L+3h8Z6zQwMF4o=':\n",
    "        print(i)"
   ]
  },
  {
   "cell_type": "code",
   "execution_count": null,
   "metadata": {},
   "outputs": [],
   "source": []
  },
  {
   "cell_type": "code",
   "execution_count": 91,
   "metadata": {},
   "outputs": [],
   "source": [
    "# from subprocess import *\n",
    "import command\n",
    "import socket\n",
    "from subprocess import *\n",
    "import subprocess"
   ]
  },
  {
   "cell_type": "code",
   "execution_count": 255,
   "metadata": {
    "scrolled": true
   },
   "outputs": [
    {
     "name": "stdout",
     "output_type": "stream",
     "text": [
      "1 -------------------------------------------\n",
      "b\"Let me sleep first . . .\\nI'm back!\\nYou should send your ID and a random string to me: \"\n",
      "b'37197||nhhfpe1pnPDDQFJ7x98n3r+71byd4yrceLgGzDFodQ4=\\nYou send me your ID, my random string and your action in base64encodeand the Mac\\nLike this Base64encode(ID+\"||\"+Ns+\"||\"+action)+\"||\"+Base64encode(sha256(password+\"||\"+ID+\"||\"+Ns+\"||\"+action))'\n",
      "b'YWRtaW58fDEyMzQ1fHxsb2dpblx4ODBceDAwXHgwMFx4MDBceDAwXHgwMFx4MDBceDAwXHgwMFx4MDBceDAwXHgwMFx4MDBceDAwXHgwMFx4MDBceDAwXHgwMFx4MDBceDAwXHgwMFx4MDBceDAwXHgwMFx4MDBceDAwXHgwMFx4MDBceDAwXHgwMFx4MDBceDAwXHgwMFx4MDBceDAwXHgwMFx4MDBceDAwXHgwMFx4MDBceDAwXHhiMHx8cHJpbnRmbGFn||hkz/DFPqwHAm5i45CEQYEXaTvxVVl9RWvYXM5yBGw2k=\\n'\n",
      "b'Integrity error!'\n",
      "2 -------------------------------------------\n",
      "b\"Let me sleep first . . .\\nI'm back!\\nYou should send your ID and a random string to me: \"\n",
      "b'98140||nhhfpe1pnPDDQFJ7x98n3r+71byd4yrceLgGzDFodQ4=\\nYou send me your ID, my random string and your action in base64encodeand the Mac\\nLike this Base64encode(ID+\"||\"+Ns+\"||\"+action)+\"||\"+Base64encode(sha256(password+\"||\"+ID+\"||\"+Ns+\"||\"+action))'\n",
      "b'YWRtaW58fDEyMzQ1fHxsb2dpblx4ODBceDAwXHgwMFx4MDBceDAwXHgwMFx4MDBceDAwXHgwMFx4MDBceDAwXHgwMFx4MDBceDAwXHgwMFx4MDBceDAwXHgwMFx4MDBceDAwXHgwMFx4MDBceDAwXHgwMFx4MDBceDAwXHgwMFx4MDBceDAwXHgwMFx4MDBceDAwXHgwMFx4MDBceDAwXHgwMFx4MDBceDAwXHgwMFx4MDBceGI4fHxwcmludGZsYWc=||hkz/DFPqwHAm5i45CEQYEXaTvxVVl9RWvYXM5yBGw2k=\\n'\n",
      "b'Integrity error!'\n",
      "3 -------------------------------------------\n",
      "b\"Let me sleep first . . .\\nI'm back!\\nYou should send your ID and a random string to me: \"\n",
      "b'29202||nhhfpe1pnPDDQFJ7x98n3r+71byd4yrceLgGzDFodQ4=\\nYou send me your ID, my random string and your action in base64encodeand the Mac\\nLike this Base64encode(ID+\"||\"+Ns+\"||\"+action)+\"||\"+Base64encode(sha256(password+\"||\"+ID+\"||\"+Ns+\"||\"+action))'\n",
      "b'YWRtaW58fDEyMzQ1fHxsb2dpblx4ODBceDAwXHgwMFx4MDBceDAwXHgwMFx4MDBceDAwXHgwMFx4MDBceDAwXHgwMFx4MDBceDAwXHgwMFx4MDBceDAwXHgwMFx4MDBceDAwXHgwMFx4MDBceDAwXHgwMFx4MDBceDAwXHgwMFx4MDBceDAwXHgwMFx4MDBceDAwXHgwMFx4MDBceDAwXHgwMFx4MDBceDAwXHgwMFx4YzB8fHByaW50ZmxhZw==||hkz/DFPqwHAm5i45CEQYEXaTvxVVl9RWvYXM5yBGw2k=\\n'\n",
      "b'Integrity error!'\n",
      "4 -------------------------------------------\n",
      "b\"Let me sleep first . . .\\nI'm back!\\nYou should send your ID and a random string to me: \"\n",
      "b'41906||nhhfpe1pnPDDQFJ7x98n3r+71byd4yrceLgGzDFodQ4=\\nYou send me your ID, my random string and your action in base64encodeand the Mac\\nLike this Base64encode(ID+\"||\"+Ns+\"||\"+action)+\"||\"+Base64encode(sha256(password+\"||\"+ID+\"||\"+Ns+\"||\"+action))'\n",
      "b'YWRtaW58fDEyMzQ1fHxsb2dpblx4ODBceDAwXHgwMFx4MDBceDAwXHgwMFx4MDBceDAwXHgwMFx4MDBceDAwXHgwMFx4MDBceDAwXHgwMFx4MDBceDAwXHgwMFx4MDBceDAwXHgwMFx4MDBceDAwXHgwMFx4MDBceDAwXHgwMFx4MDBceDAwXHgwMFx4MDBceDAwXHgwMFx4MDBceDAwXHgwMFx4MDBceDAwXHhjOHx8cHJpbnRmbGFn||hkz/DFPqwHAm5i45CEQYEXaTvxVVl9RWvYXM5yBGw2k=\\n'\n",
      "b'Integrity error!'\n",
      "5 -------------------------------------------\n",
      "b\"Let me sleep first . . .\\nI'm back!\\nYou should send your ID and a random string to me: \"\n",
      "b'4363||nhhfpe1pnPDDQFJ7x98n3r+71byd4yrceLgGzDFodQ4=\\nYou send me your ID, my random string and your action in base64encodeand the Mac\\nLike this Base64encode(ID+\"||\"+Ns+\"||\"+action)+\"||\"+Base64encode(sha256(password+\"||\"+ID+\"||\"+Ns+\"||\"+action))'\n",
      "b'YWRtaW58fDEyMzQ1fHxsb2dpblx4ODBceDAwXHgwMFx4MDBceDAwXHgwMFx4MDBceDAwXHgwMFx4MDBceDAwXHgwMFx4MDBceDAwXHgwMFx4MDBceDAwXHgwMFx4MDBceDAwXHgwMFx4MDBceDAwXHgwMFx4MDBceDAwXHgwMFx4MDBceDAwXHgwMFx4MDBceDAwXHgwMFx4MDBceDAwXHgwMFx4MDBceGQwfHxwcmludGZsYWc=||hkz/DFPqwHAm5i45CEQYEXaTvxVVl9RWvYXM5yBGw2k=\\n'\n",
      "b'Integrity error!'\n",
      "6 -------------------------------------------\n",
      "b\"Let me sleep first . . .\\nI'm back!\\nYou should send your ID and a random string to me: \"\n",
      "b'14233||nhhfpe1pnPDDQFJ7x98n3r+71byd4yrceLgGzDFodQ4=\\nYou send me your ID, my random string and your action in base64encodeand the Mac\\nLike this Base64encode(ID+\"||\"+Ns+\"||\"+action)+\"||\"+Base64encode(sha256(password+\"||\"+ID+\"||\"+Ns+\"||\"+action))'\n",
      "b'YWRtaW58fDEyMzQ1fHxsb2dpblx4ODBceDAwXHgwMFx4MDBceDAwXHgwMFx4MDBceDAwXHgwMFx4MDBceDAwXHgwMFx4MDBceDAwXHgwMFx4MDBceDAwXHgwMFx4MDBceDAwXHgwMFx4MDBceDAwXHgwMFx4MDBceDAwXHgwMFx4MDBceDAwXHgwMFx4MDBceDAwXHgwMFx4MDBceDAwXHgwMFx4ZDh8fHByaW50ZmxhZw==||hkz/DFPqwHAm5i45CEQYEXaTvxVVl9RWvYXM5yBGw2k=\\n'\n",
      "b'Integrity error!'\n",
      "7 -------------------------------------------\n",
      "b\"Let me sleep first . . .\\nI'm back!\\nYou should send your ID and a random string to me: \"\n",
      "b'44658||nhhfpe1pnPDDQFJ7x98n3r+71byd4yrceLgGzDFodQ4=\\nYou send me your ID, my random string and your action in base64encodeand the Mac\\nLike this Base64encode(ID+\"||\"+Ns+\"||\"+action)+\"||\"+Base64encode(sha256(password+\"||\"+ID+\"||\"+Ns+\"||\"+action))'\n",
      "b'YWRtaW58fDEyMzQ1fHxsb2dpblx4ODBceDAwXHgwMFx4MDBceDAwXHgwMFx4MDBceDAwXHgwMFx4MDBceDAwXHgwMFx4MDBceDAwXHgwMFx4MDBceDAwXHgwMFx4MDBceDAwXHgwMFx4MDBceDAwXHgwMFx4MDBceDAwXHgwMFx4MDBceDAwXHgwMFx4MDBceDAwXHgwMFx4MDBceDAwXHhlMHx8cHJpbnRmbGFn||hkz/DFPqwHAm5i45CEQYEXaTvxVVl9RWvYXM5yBGw2k=\\n'\n",
      "b'Integrity error!'\n",
      "8 -------------------------------------------\n",
      "b\"Let me sleep first . . .\\nI'm back!\\nYou should send your ID and a random string to me: \"\n",
      "b'33739||nhhfpe1pnPDDQFJ7x98n3r+71byd4yrceLgGzDFodQ4=\\nYou send me your ID, my random string and your action in base64encodeand the Mac\\nLike this Base64encode(ID+\"||\"+Ns+\"||\"+action)+\"||\"+Base64encode(sha256(password+\"||\"+ID+\"||\"+Ns+\"||\"+action))'\n",
      "b'YWRtaW58fDEyMzQ1fHxsb2dpblx4ODBceDAwXHgwMFx4MDBceDAwXHgwMFx4MDBceDAwXHgwMFx4MDBceDAwXHgwMFx4MDBceDAwXHgwMFx4MDBceDAwXHgwMFx4MDBceDAwXHgwMFx4MDBceDAwXHgwMFx4MDBceDAwXHgwMFx4MDBceDAwXHgwMFx4MDBceDAwXHgwMFx4MDBceGU4fHxwcmludGZsYWc=||hkz/DFPqwHAm5i45CEQYEXaTvxVVl9RWvYXM5yBGw2k=\\n'\n",
      "b'Integrity error!'\n",
      "9 -------------------------------------------\n",
      "b\"Let me sleep first . . .\\nI'm back!\\nYou should send your ID and a random string to me: \"\n",
      "b'2374||nhhfpe1pnPDDQFJ7x98n3r+71byd4yrceLgGzDFodQ4=\\nYou send me your ID, my random string and your action in base64encodeand the Mac\\nLike this Base64encode(ID+\"||\"+Ns+\"||\"+action)+\"||\"+Base64encode(sha256(password+\"||\"+ID+\"||\"+Ns+\"||\"+action))'\n",
      "b'YWRtaW58fDEyMzQ1fHxsb2dpblx4ODBceDAwXHgwMFx4MDBceDAwXHgwMFx4MDBceDAwXHgwMFx4MDBceDAwXHgwMFx4MDBceDAwXHgwMFx4MDBceDAwXHgwMFx4MDBceDAwXHgwMFx4MDBceDAwXHgwMFx4MDBceDAwXHgwMFx4MDBceDAwXHgwMFx4MDBceDAwXHgwMFx4ZjB8fHByaW50ZmxhZw==||hkz/DFPqwHAm5i45CEQYEXaTvxVVl9RWvYXM5yBGw2k=\\n'\n",
      "b'Integrity error!'\n",
      "10 -------------------------------------------\n",
      "b\"Let me sleep first . . .\\nI'm back!\\nYou should send your ID and a random string to me: \"\n",
      "b'95241||nhhfpe1pnPDDQFJ7x98n3r+71byd4yrceLgGzDFodQ4=\\nYou send me your ID, my random string and your action in base64encodeand the Mac\\nLike this Base64encode(ID+\"||\"+Ns+\"||\"+action)+\"||\"+Base64encode(sha256(password+\"||\"+ID+\"||\"+Ns+\"||\"+action))'\n",
      "b'YWRtaW58fDEyMzQ1fHxsb2dpblx4ODBceDAwXHgwMFx4MDBceDAwXHgwMFx4MDBceDAwXHgwMFx4MDBceDAwXHgwMFx4MDBceDAwXHgwMFx4MDBceDAwXHgwMFx4MDBceDAwXHgwMFx4MDBceDAwXHgwMFx4MDBceDAwXHgwMFx4MDBceDAwXHgwMFx4MDBceDAwXHhmOHx8cHJpbnRmbGFn||hkz/DFPqwHAm5i45CEQYEXaTvxVVl9RWvYXM5yBGw2k=\\n'\n",
      "b'Integrity error!'\n",
      "11 -------------------------------------------\n",
      "b\"Let me sleep first . . .\\nI'm back!\\nYou should send your ID and a random string to me: \"\n",
      "b'11218||nhhfpe1pnPDDQFJ7x98n3r+71byd4yrceLgGzDFodQ4=\\nYou send me your ID, my random string and your action in base64encodeand the Mac\\nLike this Base64encode(ID+\"||\"+Ns+\"||\"+action)+\"||\"+Base64encode(sha256(password+\"||\"+ID+\"||\"+Ns+\"||\"+action))'\n",
      "b'YWRtaW58fDEyMzQ1fHxsb2dpblx4ODBceDAwXHgwMFx4MDBceDAwXHgwMFx4MDBceDAwXHgwMFx4MDBceDAwXHgwMFx4MDBceDAwXHgwMFx4MDBceDAwXHgwMFx4MDBceDAwXHgwMFx4MDBceDAwXHgwMFx4MDBceDAwXHgwMFx4MDBceDAwXHgwMFx4MDFceDAwfHxwcmludGZsYWc=||hkz/DFPqwHAm5i45CEQYEXaTvxVVl9RWvYXM5yBGw2k=\\n'\n",
      "b'Integrity error!'\n",
      "12 -------------------------------------------\n",
      "b\"Let me sleep first . . .\\nI'm back!\\nYou should send your ID and a random string to me: \"\n",
      "b'67801||nhhfpe1pnPDDQFJ7x98n3r+71byd4yrceLgGzDFodQ4=\\nYou send me your ID, my random string and your action in base64encodeand the Mac\\nLike this Base64encode(ID+\"||\"+Ns+\"||\"+action)+\"||\"+Base64encode(sha256(password+\"||\"+ID+\"||\"+Ns+\"||\"+action))'\n",
      "b'YWRtaW58fDEyMzQ1fHxsb2dpblx4ODBceDAwXHgwMFx4MDBceDAwXHgwMFx4MDBceDAwXHgwMFx4MDBceDAwXHgwMFx4MDBceDAwXHgwMFx4MDBceDAwXHgwMFx4MDBceDAwXHgwMFx4MDBceDAwXHgwMFx4MDBceDAwXHgwMFx4MDBceDAwXHgwMVx4MDh8fHByaW50ZmxhZw==||hkz/DFPqwHAm5i45CEQYEXaTvxVVl9RWvYXM5yBGw2k=\\n'\n",
      "b'Integrity error!'\n",
      "13 -------------------------------------------\n"
     ]
    },
    {
     "name": "stdout",
     "output_type": "stream",
     "text": [
      "b\"Let me sleep first . . .\\nI'm back!\\nYou should send your ID and a random string to me: \"\n",
      "b'85865||nhhfpe1pnPDDQFJ7x98n3r+71byd4yrceLgGzDFodQ4=\\nYou send me your ID, my random string and your action in base64encodeand the Mac\\nLike this Base64encode(ID+\"||\"+Ns+\"||\"+action)+\"||\"+Base64encode(sha256(password+\"||\"+ID+\"||\"+Ns+\"||\"+action))'\n",
      "b'YWRtaW58fDEyMzQ1fHxsb2dpblx4ODBceDAwXHgwMFx4MDBceDAwXHgwMFx4MDBceDAwXHgwMFx4MDBceDAwXHgwMFx4MDBceDAwXHgwMFx4MDBceDAwXHgwMFx4MDBceDAwXHgwMFx4MDBceDAwXHgwMFx4MDBceDAwXHgwMFx4MDBceDAxXHgxMHx8cHJpbnRmbGFn||hkz/DFPqwHAm5i45CEQYEXaTvxVVl9RWvYXM5yBGw2k=\\n'\n",
      "b'Integrity error!'\n",
      "14 -------------------------------------------\n",
      "b\"Let me sleep first . . .\\nI'm back!\\nYou should send your ID and a random string to me: \"\n",
      "b'55766||nhhfpe1pnPDDQFJ7x98n3r+71byd4yrceLgGzDFodQ4=\\nYou send me your ID, my random string and your action in base64encodeand the Mac\\nLike this Base64encode(ID+\"||\"+Ns+\"||\"+action)+\"||\"+Base64encode(sha256(password+\"||\"+ID+\"||\"+Ns+\"||\"+action))'\n",
      "b'YWRtaW58fDEyMzQ1fHxsb2dpblx4ODBceDAwXHgwMFx4MDBceDAwXHgwMFx4MDBceDAwXHgwMFx4MDBceDAwXHgwMFx4MDBceDAwXHgwMFx4MDBceDAwXHgwMFx4MDBceDAwXHgwMFx4MDBceDAwXHgwMFx4MDBceDAwXHgwMFx4MDFceDE4fHxwcmludGZsYWc=||hkz/DFPqwHAm5i45CEQYEXaTvxVVl9RWvYXM5yBGw2k=\\n'\n",
      "b'Integrity error!'\n",
      "15 -------------------------------------------\n",
      "b\"Let me sleep first . . .\\nI'm back!\\nYou should send your ID and a random string to me: \"\n",
      "b'54638||nhhfpe1pnPDDQFJ7x98n3r+71byd4yrceLgGzDFodQ4=\\nYou send me your ID, my random string and your action in base64encodeand the Mac\\nLike this Base64encode(ID+\"||\"+Ns+\"||\"+action)+\"||\"+Base64encode(sha256(password+\"||\"+ID+\"||\"+Ns+\"||\"+action))'\n",
      "b'YWRtaW58fDEyMzQ1fHxsb2dpblx4ODBceDAwXHgwMFx4MDBceDAwXHgwMFx4MDBceDAwXHgwMFx4MDBceDAwXHgwMFx4MDBceDAwXHgwMFx4MDBceDAwXHgwMFx4MDBceDAwXHgwMFx4MDBceDAwXHgwMFx4MDBceDAwXHgwMSB8fHByaW50ZmxhZw==||hkz/DFPqwHAm5i45CEQYEXaTvxVVl9RWvYXM5yBGw2k=\\n'\n",
      "b'Integrity error!'\n",
      "16 -------------------------------------------\n",
      "b\"Let me sleep first . . .\\nI'm back!\\nYou should send your ID and a random string to me: \"\n",
      "b'95907||nhhfpe1pnPDDQFJ7x98n3r+71byd4yrceLgGzDFodQ4=\\nYou send me your ID, my random string and your action in base64encodeand the Mac\\nLike this Base64encode(ID+\"||\"+Ns+\"||\"+action)+\"||\"+Base64encode(sha256(password+\"||\"+ID+\"||\"+Ns+\"||\"+action))'\n",
      "b'YWRtaW58fDEyMzQ1fHxsb2dpblx4ODBceDAwXHgwMFx4MDBceDAwXHgwMFx4MDBceDAwXHgwMFx4MDBceDAwXHgwMFx4MDBceDAwXHgwMFx4MDBceDAwXHgwMFx4MDBceDAwXHgwMFx4MDBceDAwXHgwMFx4MDBceDAxKHx8cHJpbnRmbGFn||hkz/DFPqwHAm5i45CEQYEXaTvxVVl9RWvYXM5yBGw2k=\\n'\n",
      "b'Integrity error!'\n",
      "17 -------------------------------------------\n",
      "b\"Let me sleep first . . .\\nI'm back!\\nYou should send your ID and a random string to me: \"\n",
      "b'4234||nhhfpe1pnPDDQFJ7x98n3r+71byd4yrceLgGzDFodQ4=\\nYou send me your ID, my random string and your action in base64encodeand the Mac\\nLike this Base64encode(ID+\"||\"+Ns+\"||\"+action)+\"||\"+Base64encode(sha256(password+\"||\"+ID+\"||\"+Ns+\"||\"+action))'\n",
      "b'YWRtaW58fDEyMzQ1fHxsb2dpblx4ODBceDAwXHgwMFx4MDBceDAwXHgwMFx4MDBceDAwXHgwMFx4MDBceDAwXHgwMFx4MDBceDAwXHgwMFx4MDBceDAwXHgwMFx4MDBceDAwXHgwMFx4MDBceDAwXHgwMFx4MDEwfHxwcmludGZsYWc=||hkz/DFPqwHAm5i45CEQYEXaTvxVVl9RWvYXM5yBGw2k=\\n'\n",
      "b'Integrity error!'\n",
      "18 -------------------------------------------\n",
      "b\"Let me sleep first . . .\\nI'm back!\\nYou should send your ID and a random string to me: \"\n",
      "b'56138||nhhfpe1pnPDDQFJ7x98n3r+71byd4yrceLgGzDFodQ4=\\nYou send me your ID, my random string and your action in base64encodeand the Mac\\nLike this Base64encode(ID+\"||\"+Ns+\"||\"+action)+\"||\"+Base64encode(sha256(password+\"||\"+ID+\"||\"+Ns+\"||\"+action))'\n",
      "b'YWRtaW58fDEyMzQ1fHxsb2dpblx4ODBceDAwXHgwMFx4MDBceDAwXHgwMFx4MDBceDAwXHgwMFx4MDBceDAwXHgwMFx4MDBceDAwXHgwMFx4MDBceDAwXHgwMFx4MDBceDAwXHgwMFx4MDBceDAwXHgwMTh8fHByaW50ZmxhZw==||hkz/DFPqwHAm5i45CEQYEXaTvxVVl9RWvYXM5yBGw2k=\\n'\n",
      "b'Integrity error!'\n",
      "19 -------------------------------------------\n",
      "b\"Let me sleep first . . .\\nI'm back!\\nYou should send your ID and a random string to me: \"\n",
      "b'12872||nhhfpe1pnPDDQFJ7x98n3r+71byd4yrceLgGzDFodQ4=\\nYou send me your ID, my random string and your action in base64encodeand the Mac\\nLike this Base64encode(ID+\"||\"+Ns+\"||\"+action)+\"||\"+Base64encode(sha256(password+\"||\"+ID+\"||\"+Ns+\"||\"+action))'\n",
      "b'YWRtaW58fDEyMzQ1fHxsb2dpblx4ODBceDAwXHgwMFx4MDBceDAwXHgwMFx4MDBceDAwXHgwMFx4MDBceDAwXHgwMFx4MDBceDAwXHgwMFx4MDBceDAwXHgwMFx4MDBceDAwXHgwMFx4MDBceDAxQHx8cHJpbnRmbGFn||hkz/DFPqwHAm5i45CEQYEXaTvxVVl9RWvYXM5yBGw2k=\\n'\n",
      "b'Integrity error!'\n",
      "20 -------------------------------------------\n",
      "b\"Let me sleep first . . .\\nI'm back!\\nYou should send your ID and a random string to me: \"\n",
      "b'79641||nhhfpe1pnPDDQFJ7x98n3r+71byd4yrceLgGzDFodQ4=\\nYou send me your ID, my random string and your action in base64encodeand the Mac\\nLike this Base64encode(ID+\"||\"+Ns+\"||\"+action)+\"||\"+Base64encode(sha256(password+\"||\"+ID+\"||\"+Ns+\"||\"+action))'\n",
      "b'YWRtaW58fDEyMzQ1fHxsb2dpblx4ODBceDAwXHgwMFx4MDBceDAwXHgwMFx4MDBceDAwXHgwMFx4MDBceDAwXHgwMFx4MDBceDAwXHgwMFx4MDBceDAwXHgwMFx4MDBceDAwXHgwMFx4MDFIfHxwcmludGZsYWc=||hkz/DFPqwHAm5i45CEQYEXaTvxVVl9RWvYXM5yBGw2k=\\n'\n",
      "b'Integrity error!'\n",
      "21 -------------------------------------------\n",
      "b\"Let me sleep first . . .\\nI'm back!\\nYou should send your ID and a random string to me: \"\n",
      "b'48368||nhhfpe1pnPDDQFJ7x98n3r+71byd4yrceLgGzDFodQ4=\\nYou send me your ID, my random string and your action in base64encodeand the Mac\\nLike this Base64encode(ID+\"||\"+Ns+\"||\"+action)+\"||\"+Base64encode(sha256(password+\"||\"+ID+\"||\"+Ns+\"||\"+action))'\n",
      "b'YWRtaW58fDEyMzQ1fHxsb2dpblx4ODBceDAwXHgwMFx4MDBceDAwXHgwMFx4MDBceDAwXHgwMFx4MDBceDAwXHgwMFx4MDBceDAwXHgwMFx4MDBceDAwXHgwMFx4MDBceDAwXHgwMVB8fHByaW50ZmxhZw==||hkz/DFPqwHAm5i45CEQYEXaTvxVVl9RWvYXM5yBGw2k=\\n'\n",
      "b'Integrity error!'\n",
      "22 -------------------------------------------\n",
      "b\"Let me sleep first . . .\\nI'm back!\\nYou should send your ID and a random string to me: \"\n",
      "b'65740||nhhfpe1pnPDDQFJ7x98n3r+71byd4yrceLgGzDFodQ4=\\nYou send me your ID, my random string and your action in base64encodeand the Mac\\nLike this Base64encode(ID+\"||\"+Ns+\"||\"+action)+\"||\"+Base64encode(sha256(password+\"||\"+ID+\"||\"+Ns+\"||\"+action))'\n",
      "b'YWRtaW58fDEyMzQ1fHxsb2dpblx4ODBceDAwXHgwMFx4MDBceDAwXHgwMFx4MDBceDAwXHgwMFx4MDBceDAwXHgwMFx4MDBceDAwXHgwMFx4MDBceDAwXHgwMFx4MDBceDAxWHx8cHJpbnRmbGFn||hkz/DFPqwHAm5i45CEQYEXaTvxVVl9RWvYXM5yBGw2k=\\n'\n",
      "b'Integrity error!'\n",
      "23 -------------------------------------------\n",
      "b\"Let me sleep first . . .\\nI'm back!\\nYou should send your ID and a random string to me: \"\n",
      "b'41872||nhhfpe1pnPDDQFJ7x98n3r+71byd4yrceLgGzDFodQ4=\\nYou send me your ID, my random string and your action in base64encodeand the Mac\\nLike this Base64encode(ID+\"||\"+Ns+\"||\"+action)+\"||\"+Base64encode(sha256(password+\"||\"+ID+\"||\"+Ns+\"||\"+action))'\n",
      "b'YWRtaW58fDEyMzQ1fHxsb2dpblx4ODBceDAwXHgwMFx4MDBceDAwXHgwMFx4MDBceDAwXHgwMFx4MDBceDAwXHgwMFx4MDBceDAwXHgwMFx4MDBceDAwXHgwMFx4MDFgfHxwcmludGZsYWc=||hkz/DFPqwHAm5i45CEQYEXaTvxVVl9RWvYXM5yBGw2k=\\n'\n",
      "b'Integrity error!'\n",
      "24 -------------------------------------------\n",
      "b\"Let me sleep first . . .\\nI'm back!\\nYou should send your ID and a random string to me: \"\n",
      "b'72024||nhhfpe1pnPDDQFJ7x98n3r+71byd4yrceLgGzDFodQ4=\\nYou send me your ID, my random string and your action in base64encodeand the Mac\\nLike this Base64encode(ID+\"||\"+Ns+\"||\"+action)+\"||\"+Base64encode(sha256(password+\"||\"+ID+\"||\"+Ns+\"||\"+action))'\n",
      "b'YWRtaW58fDEyMzQ1fHxsb2dpblx4ODBceDAwXHgwMFx4MDBceDAwXHgwMFx4MDBceDAwXHgwMFx4MDBceDAwXHgwMFx4MDBceDAwXHgwMFx4MDBceDAwXHgwMWh8fHByaW50ZmxhZw==||hkz/DFPqwHAm5i45CEQYEXaTvxVVl9RWvYXM5yBGw2k=\\n'\n",
      "b'Integrity error!'\n",
      "25 -------------------------------------------\n",
      "b\"Let me sleep first . . .\\nI'm back!\\nYou should send your ID and a random string to me: \"\n",
      "b'14747||nhhfpe1pnPDDQFJ7x98n3r+71byd4yrceLgGzDFodQ4=\\nYou send me your ID, my random string and your action in base64encodeand the Mac\\nLike this Base64encode(ID+\"||\"+Ns+\"||\"+action)+\"||\"+Base64encode(sha256(password+\"||\"+ID+\"||\"+Ns+\"||\"+action))'\n",
      "b'YWRtaW58fDEyMzQ1fHxsb2dpblx4ODBceDAwXHgwMFx4MDBceDAwXHgwMFx4MDBceDAwXHgwMFx4MDBceDAwXHgwMFx4MDBceDAwXHgwMFx4MDBceDAxcHx8cHJpbnRmbGFn||hkz/DFPqwHAm5i45CEQYEXaTvxVVl9RWvYXM5yBGw2k=\\n'\n",
      "b'Integrity error!'\n",
      "26 -------------------------------------------\n",
      "b\"Let me sleep first . . .\\nI'm back!\\nYou should send your ID and a random string to me: \"\n"
     ]
    },
    {
     "name": "stdout",
     "output_type": "stream",
     "text": [
      "b'15574||nhhfpe1pnPDDQFJ7x98n3r+71byd4yrceLgGzDFodQ4=\\nYou send me your ID, my random string and your action in base64encodeand the Mac\\nLike this Base64encode(ID+\"||\"+Ns+\"||\"+action)+\"||\"+Base64encode(sha256(password+\"||\"+ID+\"||\"+Ns+\"||\"+action))'\n",
      "b'YWRtaW58fDEyMzQ1fHxsb2dpblx4ODBceDAwXHgwMFx4MDBceDAwXHgwMFx4MDBceDAwXHgwMFx4MDBceDAwXHgwMFx4MDBceDAwXHgwMFx4MDF4fHxwcmludGZsYWc=||hkz/DFPqwHAm5i45CEQYEXaTvxVVl9RWvYXM5yBGw2k=\\n'\n",
      "b'Integrity error!'\n",
      "27 -------------------------------------------\n",
      "b\"Let me sleep first . . .\\nI'm back!\\nYou should send your ID and a random string to me: \"\n",
      "b'39600||nhhfpe1pnPDDQFJ7x98n3r+71byd4yrceLgGzDFodQ4=\\nYou send me your ID, my random string and your action in base64encodeand the Mac\\nLike this Base64encode(ID+\"||\"+Ns+\"||\"+action)+\"||\"+Base64encode(sha256(password+\"||\"+ID+\"||\"+Ns+\"||\"+action))'\n",
      "b'YWRtaW58fDEyMzQ1fHxsb2dpblx4ODBceDAwXHgwMFx4MDBceDAwXHgwMFx4MDBceDAwXHgwMFx4MDBceDAwXHgwMFx4MDBceDAwXHgwMVx4ODB8fHByaW50ZmxhZw==||hkz/DFPqwHAm5i45CEQYEXaTvxVVl9RWvYXM5yBGw2k=\\n'\n",
      "b'Integrity error!'\n",
      "28 -------------------------------------------\n",
      "b\"Let me sleep first . . .\\nI'm back!\\nYou should send your ID and a random string to me: \"\n",
      "b'57018||nhhfpe1pnPDDQFJ7x98n3r+71byd4yrceLgGzDFodQ4=\\nYou send me your ID, my random string and your action in base64encodeand the Mac\\nLike this Base64encode(ID+\"||\"+Ns+\"||\"+action)+\"||\"+Base64encode(sha256(password+\"||\"+ID+\"||\"+Ns+\"||\"+action))'\n",
      "b'YWRtaW58fDEyMzQ1fHxsb2dpblx4ODBceDAwXHgwMFx4MDBceDAwXHgwMFx4MDBceDAwXHgwMFx4MDBceDAwXHgwMFx4MDBceDAxXHg4OHx8cHJpbnRmbGFn||hkz/DFPqwHAm5i45CEQYEXaTvxVVl9RWvYXM5yBGw2k=\\n'\n",
      "b'Integrity error!'\n",
      "29 -------------------------------------------\n",
      "b\"Let me sleep first . . .\\nI'm back!\\nYou should send your ID and a random string to me: \"\n",
      "b'53874||nhhfpe1pnPDDQFJ7x98n3r+71byd4yrceLgGzDFodQ4=\\nYou send me your ID, my random string and your action in base64encodeand the Mac\\nLike this Base64encode(ID+\"||\"+Ns+\"||\"+action)+\"||\"+Base64encode(sha256(password+\"||\"+ID+\"||\"+Ns+\"||\"+action))'\n",
      "b'YWRtaW58fDEyMzQ1fHxsb2dpblx4ODBceDAwXHgwMFx4MDBceDAwXHgwMFx4MDBceDAwXHgwMFx4MDBceDAwXHgwMFx4MDFceDkwfHxwcmludGZsYWc=||hkz/DFPqwHAm5i45CEQYEXaTvxVVl9RWvYXM5yBGw2k=\\n'\n",
      "b'Integrity error!'\n",
      "30 -------------------------------------------\n",
      "b\"Let me sleep first . . .\\nI'm back!\\nYou should send your ID and a random string to me: \"\n",
      "b'24475||nhhfpe1pnPDDQFJ7x98n3r+71byd4yrceLgGzDFodQ4=\\nYou send me your ID, my random string and your action in base64encodeand the Mac\\nLike this Base64encode(ID+\"||\"+Ns+\"||\"+action)+\"||\"+Base64encode(sha256(password+\"||\"+ID+\"||\"+Ns+\"||\"+action))'\n",
      "b'YWRtaW58fDEyMzQ1fHxsb2dpblx4ODBceDAwXHgwMFx4MDBceDAwXHgwMFx4MDBceDAwXHgwMFx4MDBceDAwXHgwMVx4OTh8fHByaW50ZmxhZw==||hkz/DFPqwHAm5i45CEQYEXaTvxVVl9RWvYXM5yBGw2k=\\n'\n",
      "b'Integrity error!'\n"
     ]
    }
   ],
   "source": [
    "for length in range(1,31):\n",
    "    s = socket.create_connection(('140.112.31.96', 10122))\n",
    "    print(length, '-------------------------------------------')\n",
    "    time.sleep(7)\n",
    "    print(s.recv(1000))\n",
    "    time.sleep(1)\n",
    "    s.send(b'admin||12345||zyAOfrmDlom7iF2ljegu9/dK+nfb5CXISWLI5L5X89Y=\\n')\n",
    "    time.sleep(1)\n",
    "    strs = s.recv(1000)\n",
    "    print(strs)\n",
    "    Ns = int(str(strs).split('||')[0].split('\\'')[-1])\n",
    "    cipher = b'nhhfpe1pnPDDQFJ7x98n3r+71byd4yrceLgGzDFodQ4='\n",
    "    args = '-s ' + '9e185fa5ed699cf0c340527bc7df27debfbbd5bc9de32adc78b806cc3168750e' + ' --data ' + '\\'||admin||12345||login\\''+' -a ' + '\\'||printflag\\'' + ' -k ' + str(length)\n",
    "    output = subprocess.getstatusoutput('hashpump ' + args)\n",
    "    mss2 = output[1].split('\\n')[1]\n",
    "    cipher = output[1].split('\\n')[0]\n",
    "    cipher = base64.b64encode(bytes.fromhex(cipher))\n",
    "    msg4 = base64.b64encode(mss2[2:].encode())\n",
    "    s.send(msg4+b'||'+cipher+b'\\n')\n",
    "    print(msg4+b'||'+cipher+b'\\n')\n",
    "    # try:\n",
    "    strs = s.recv(1000)\n",
    "    print(strs)"
   ]
  },
  {
   "cell_type": "code",
   "execution_count": 254,
   "metadata": {},
   "outputs": [
    {
     "data": {
      "text/plain": [
       "'admin||12345||login\\\\x80\\\\x00\\\\x00\\\\x00\\\\x00\\\\x00\\\\x00\\\\x00\\\\x00\\\\x00\\\\x00\\\\x01\\\\x98||printflag'"
      ]
     },
     "execution_count": 254,
     "metadata": {},
     "output_type": "execute_result"
    }
   ],
   "source": [
    "# cipher\n",
    "mss2[2:]\n",
    "# output"
   ]
  },
  {
   "cell_type": "code",
   "execution_count": 82,
   "metadata": {},
   "outputs": [
    {
     "name": "stdout",
     "output_type": "stream",
     "text": [
      "b\"Let me sleep first . . .\\nI'm back!\\nYou should send your ID and a random string to me: \"\n"
     ]
    },
    {
     "data": {
      "text/plain": [
       "'b\\'59514||nhhfpe1pnPDDQFJ7x98n3r+71byd4yrceLgGzDFodQ4=\\\\nYou send me your ID, my random string and your action in base64encodeand the Mac\\\\nLike this Base64encode(ID+\"||\"+Ns+\"||\"+action)+\"||\"+Base64encode(sha256(password+\"||\"+ID+\"||\"+Ns+\"||\"+action))\\''"
      ]
     },
     "execution_count": 82,
     "metadata": {},
     "output_type": "execute_result"
    }
   ],
   "source": [
    "s = socket.create_connection(('140.112.31.96', 10122))\n",
    "time.sleep(7)\n",
    "print(s.recv(1000))\n",
    "s.send(b'admin||12345||zyAOfrmDlom7iF2ljegu9/dK+nfb5CXISWLI5L5X89Y=\\n')\n",
    "time.sleep(1)\n",
    "strs = s.recv(1000)\n",
    "Ns = int(str(strs).split('||')[0].split('\\'')[-1])\n",
    "cipher = b'nhhfpe1pnPDDQFJ7x98n3r+71byd4yrceLgGzDFodQ4='\n",
    "args = '-s ' + 'cf200e7eb9839689bb885da58de82ef7f74afa77dbe425c84962c8e4be57f3d6' + ' --data ' + '\\'admin||'+str(Ns) +'||\\''+' -a ' + '\\'||printflag\\'' + ' -k ' + str(length)\n",
    "output = subprocess.getstatusoutput('hashpump ' + args)\n",
    "mss2 = output[1].split('\\n')[1]\n",
    "msg4 = base64.b64encode(mss2.encode())\n",
    "s.send(msg4+b'||'+cipher)\n",
    "# try:\n",
    "strs = s.recv(1000)"
   ]
  },
  {
   "cell_type": "code",
   "execution_count": null,
   "metadata": {},
   "outputs": [],
   "source": [
    "s.send(b'admin||12345||zyAOfrmDlom7iF2ljegu9/dK+nfb5CXISWLI5L5X89Y=')\n",
    "s.recv(1000)"
   ]
  },
  {
   "cell_type": "code",
   "execution_count": 94,
   "metadata": {},
   "outputs": [
    {
     "data": {
      "text/plain": [
       "(0, 'code6_2.py\\ncode6_3.py\\ncode6.py\\ncode7.ipynb\\ncode.ipynb')"
      ]
     },
     "execution_count": 94,
     "metadata": {},
     "output_type": "execute_result"
    }
   ],
   "source": [
    "# int(str(strs).split('||')[0].split('\\'')[-1])\n",
    "# command.\n",
    "# return_code = subprocess.call(\"echo Hello World\", shell=True)  \n",
    "subprocess.getstatusoutput(\"ls\")"
   ]
  },
  {
   "cell_type": "code",
   "execution_count": 109,
   "metadata": {},
   "outputs": [
    {
     "name": "stdout",
     "output_type": "stream",
     "text": [
      "1873b29ad99a2ae8ac750287a2264cf693727be7b094b2054af4a7e5377837e9\n",
      "admin||1000||\\x80\\x00\\x00\\x00\\x00\\x00\\x00\\x00\\x00\\x00\\x00\\x00\\x00\\x00\\x00\\x00\\x00\\x00\\x00\\x00\\x01P||printflag\n"
     ]
    }
   ],
   "source": [
    "Ns=1000\n",
    "args = '-s ' + 'cf200e7eb9839689bb885da58de82ef7f74afa77dbe425c84962c8e4be57f3d6' + ' --data ' + '\\'admin||'+str(Ns) +'||\\''+' -a ' + '\\'||printflag\\'' + ' -k ' + str(29)\n",
    "output = subprocess.getstatusoutput('hashpump ' + args)\n",
    "print(output[1])"
   ]
  },
  {
   "cell_type": "code",
   "execution_count": 220,
   "metadata": {},
   "outputs": [],
   "source": [
    "def sha256(msg):\n",
    "    sha = SHA256.new()\n",
    "    try:\n",
    "        sha.update(msg.encode())\n",
    "    except:\n",
    "        sha.update(msg)\n",
    "    return sha.digest()"
   ]
  },
  {
   "cell_type": "code",
   "execution_count": 167,
   "metadata": {},
   "outputs": [
    {
     "name": "stdout",
     "output_type": "stream",
     "text": [
      "56||admin||12345||login\n",
      "b'3DzZyCmAKJ+Mx1LNcnXJHAWMzJeLJqUhElSg6As8oos='\n"
     ]
    },
    {
     "data": {
      "text/plain": [
       "b'JVQ+i0j90ldkmZ5BGp1k1ID9gt1fcykPHva6IdKtYQw='"
      ]
     },
     "execution_count": 167,
     "metadata": {},
     "output_type": "execute_result"
    }
   ],
   "source": [
    "# output[1].split('\\n')[1]\n",
    "# args\n",
    "# msg4\n",
    "# shamac = SHA256.new()\n",
    "pwd = '56'\n",
    "ID='admin'\n",
    "Nc ='12345'\n",
    "Ns =3389\n",
    "print(pwd + '||' + ID + '||' + Nc + '||' + \"login\")\n",
    "cipher = sha256(pwd + '||' + ID + '||' + Nc + '||' + \"login\")\n",
    "# shamac.update(mac.encode())\n",
    "# print(cipher.encode())\n",
    "mac = base64.b64encode(cipher)\n",
    "print(mac)\n",
    "\n",
    "\n",
    "args = '-s ' + 'dc3cd9c82980289f8cc752cd7275c91c058ccc978b26a5211254a0e80b3ca28b' + ' --data ' + '\\'admin||'+str(Ns) +'||\\''+' -a ' + '\\'||printflag\\'' + ' -k ' + str(2)\n",
    "output = subprocess.getstatusoutput('hashpump ' + args)\n",
    "mss2 = output[1].split('\\n')[1]\n",
    "msg4 = base64.b64encode(mss2.encode())\n",
    "#################################################\n",
    "msg5 = base64.b64decode(msg4)\n",
    "res = sha256(pwd+'||'+msg5.decode('utf8'))\n",
    "ress = base64.b64encode(res)\n",
    "ress\n",
    "# messages='admin||1000||\\x80\\x00\\x00\\x00\\x00\\x00\\x00\\x00\\x00\\x00\\x00\\x00\\x00\\x00\\x00\\x00\\x00\\x00\\x00\\x00\\x01P||printflag'\n",
    "# sha256 = SHA256.new()\n",
    "# sha256.update(messages.encode())\n",
    "# sha256.digest().hex()"
   ]
  },
  {
   "cell_type": "code",
   "execution_count": 162,
   "metadata": {},
   "outputs": [
    {
     "data": {
      "text/plain": [
       "'admin||3389||\\\\x80\\\\x00\\\\x00\\\\x00\\\\x00\\\\x00\\\\x00\\\\x00\\\\x00\\\\x00\\\\x00\\\\x00\\\\x00\\\\x00\\\\x00\\\\x00\\\\x00\\\\x00\\\\x00\\\\x00\\\\x00\\\\x00\\\\x00\\\\x00\\\\x00\\\\x00\\\\x00\\\\x00\\\\x00\\\\x00\\\\x00\\\\x00\\\\x00\\\\x00\\\\x00\\\\x00\\\\x00\\\\x00\\\\x00\\\\x00\\\\x00\\\\x00\\\\x00\\\\x00\\\\x00\\\\x00\\\\x00\\\\x00x||printflag'"
      ]
     },
     "execution_count": 162,
     "metadata": {},
     "output_type": "execute_result"
    }
   ],
   "source": [
    "msg5.decode('utf8')"
   ]
  },
  {
   "cell_type": "code",
   "execution_count": 252,
   "metadata": {},
   "outputs": [
    {
     "name": "stdout",
     "output_type": "stream",
     "text": [
      "9e185fa5ed699cf0c340527bc7df27debfbbd5bc9de32adc78b806cc3168750e\n"
     ]
    }
   ],
   "source": [
    "m1 = 'nhhfpe1pnPDDQFJ7x98n3r+71byd4yrceLgGzDFodQ4='\n",
    "res = base64.b64decode(m1)\n",
    "print(res.hex())\n",
    "# ress = sha256(res)\n",
    "# ress"
   ]
  },
  {
   "cell_type": "code",
   "execution_count": 128,
   "metadata": {},
   "outputs": [
    {
     "data": {
      "text/plain": [
       "217"
      ]
     },
     "execution_count": 128,
     "metadata": {},
     "output_type": "execute_result"
    }
   ],
   "source": [
    "mss2 = output[1].split('\\n')[1]\n",
    "msg4 = base64.b64encode(mss2.encode())\n",
    "len(mss2)"
   ]
  },
  {
   "cell_type": "code",
   "execution_count": null,
   "metadata": {},
   "outputs": [],
   "source": []
  },
  {
   "cell_type": "code",
   "execution_count": null,
   "metadata": {},
   "outputs": [],
   "source": []
  },
  {
   "cell_type": "code",
   "execution_count": null,
   "metadata": {},
   "outputs": [],
   "source": []
  },
  {
   "cell_type": "code",
   "execution_count": null,
   "metadata": {},
   "outputs": [],
   "source": []
  },
  {
   "cell_type": "code",
   "execution_count": 193,
   "metadata": {},
   "outputs": [
    {
     "data": {
      "text/plain": [
       "'06d90109c8cce34ec0c776950465421e176f08b831a938b3c6e76cb7bee8790b'"
      ]
     },
     "execution_count": 193,
     "metadata": {},
     "output_type": "execute_result"
    }
   ],
   "source": [
    "sha256('Abc').hex()"
   ]
  },
  {
   "cell_type": "code",
   "execution_count": 223,
   "metadata": {},
   "outputs": [
    {
     "data": {
      "text/plain": [
       "'a2069eb473dc91bedd2048928a74c6f4d390ce07d081e566b469b04efa465623'"
      ]
     },
     "execution_count": 223,
     "metadata": {},
     "output_type": "execute_result"
    }
   ],
   "source": [
    "sha256('bcdef').hex()"
   ]
  },
  {
   "cell_type": "code",
   "execution_count": 221,
   "metadata": {},
   "outputs": [
    {
     "data": {
      "text/plain": [
       "'db048df0f44d6014004d758b36fe42ba958175994ec5212753e1fc9865ef7033'"
      ]
     },
     "execution_count": 221,
     "metadata": {},
     "output_type": "execute_result"
    }
   ],
   "source": [
    "pt = 'bc\\x80\\x00\\x00\\x00\\x00\\x00\\x00\\x00\\x00\\x00\\x00\\x00\\x00\\x00\\x00\\x00\\x00\\x00\\x00\\x00\\x00\\x00\\x00\\x00\\x00\\x00\\x00\\x00\\x00\\x00\\x00\\x00\\x00\\x00\\x00\\x00\\x00\\x00\\x00\\x00\\x00\\x00\\x00\\x00\\x00\\x00\\x00\\x00\\x00\\x00\\x00\\x00\\x00\\x00\\x00\\x00\\x00\\x00\\x00\\x00\\x18def'\n",
    "sha256(kk).hex()"
   ]
  },
  {
   "cell_type": "code",
   "execution_count": 204,
   "metadata": {},
   "outputs": [
    {
     "name": "stdout",
     "output_type": "stream",
     "text": [
      "50e24cb92bc39bd5a26e10e7a1c3d16e41f5911fd3bc1e3b6b8286d9400c02a4\n",
      "bc\\x80\\x00\\x00\\x00\\x00\\x00\\x00\\x00\\x00\\x00\\x00\\x00\\x00\\x00\\x00\\x00\\x00\\x00\\x00\\x00\\x00\\x00\\x00\\x00\\x00\\x00\\x00\\x00\\x00\\x00\\x00\\x00\\x00\\x00\\x00\\x00\\x00\\x00\\x00\\x00\\x00\\x00\\x00\\x00\\x00\\x00\\x00\\x00\\x00\\x00\\x00\\x00\\x00\\x00\\x00\\x00\\x00\\x00\\x00\\x00\\x18def\n"
     ]
    }
   ],
   "source": [
    "args = '-s ' + '06d90109c8cce34ec0c776950465421e176f08b831a938b3c6e76cb7bee8790b' + ' --data ' + '\\'bc\\''+' -a ' + '\\'def\\'' + ' -k ' + str(1)\n",
    "output = subprocess.getstatusoutput('hashpump ' + args)\n",
    "mss2 = output[1].split('\\n')[1]\n",
    "mss3 = output[1].split('\\n')[0]\n",
    "msg4 = base64.b64encode(mss2.encode())\n",
    "print(output[1].split('\\n')[0])\n",
    "print(mss2)"
   ]
  },
  {
   "cell_type": "code",
   "execution_count": 216,
   "metadata": {},
   "outputs": [
    {
     "data": {
      "text/plain": [
       "b'P\\xe2L\\xb9+\\xc3\\x9b\\xd5\\xa2n\\x10\\xe7\\xa1\\xc3\\xd1nA\\xf5\\x91\\x1f\\xd3\\xbc\\x1e;k\\x82\\x86\\xd9@\\x0c\\x02\\xa4'"
      ]
     },
     "execution_count": 216,
     "metadata": {},
     "output_type": "execute_result"
    }
   ],
   "source": [
    "kk = bytes.fromhex('50e24cb92bc39bd5a26e10e7a1c3d16e41f5911fd3bc1e3b6b8286d9400c02a4')\n",
    "kk"
   ]
  }
 ],
 "metadata": {
  "kernelspec": {
   "display_name": "Python [default]",
   "language": "python",
   "name": "python3"
  },
  "language_info": {
   "codemirror_mode": {
    "name": "ipython",
    "version": 3
   },
   "file_extension": ".py",
   "mimetype": "text/x-python",
   "name": "python",
   "nbconvert_exporter": "python",
   "pygments_lexer": "ipython3",
   "version": "3.6.4"
  }
 },
 "nbformat": 4,
 "nbformat_minor": 2
}
